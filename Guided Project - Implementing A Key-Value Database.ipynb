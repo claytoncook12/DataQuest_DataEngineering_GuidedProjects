{
 "cells": [
  {
   "cell_type": "markdown",
   "metadata": {},
   "source": [
    "# Guided Project - Implementing A Key-Value Database\n",
    "\n",
    "[<b>Solution</b>](https://github.com/dataquestio/solutions/blob/master/Mission234Solutions.ipynb)\n",
    "\n",
    "In this guided project, we will be using the b-tree data structure from before as the building block for a fully functioning, saving-to-disk, <b>key-value store</b>. A [key-value store](https://en.wikipedia.org/wiki/Key%E2%80%93value_database) is a database that operates similar to a Python dictionary but stored in a file. There are the important <code>get</code> and <code>set</code> methods that the dictionary contains, but the key-value store will also provide an API for saving to disk, loading from disk, range queries of our data, and others. Our goal will be to create an easy to use, flexible, and adaptable key value store that other developers could use in their projects.\n",
    "\n",
    "For this guided project, we will inherit the majority of the behavior from the <code>BTree</code> class. However, we will redesign some of the API to make it more user friendly. Finally, we will be implementing some additional behavior to make it function as the key-value database that we expect.\n",
    "\n",
    "## 1. Creating a Key-Value Store Class\n",
    "\n",
    "Every key-value store (abbreviated to kv store) implements a <code>get()</code> and <code>set()</code> method that serve as its most important functionality. Like a Python <code>dict</code>, the kv store will <code>set</code> a <code>value</code> for some given <code>key</code> only if value is not <code>None</code>. However, the <code>set()</code> method should also function different from a Python dictionary by requiring the uniqueness of the <code>key</code>, that means if the <code>key</code> exists in the kv store, then throw a duplicate error.\n",
    "\n",
    "For the <code>get()</code> method, we also want to replicate the same behavior from the Python dictionary. If we wish to <code>get()</code> the value for some given key, then we should get the saved value. However, if that key does not exist, the key-value store should throw an exception.\n",
    "\n",
    "Remember to think about the API design as you develop the <code>get()</code> and <code>set()</code> methods. A handy class that you might want to use is the <code>NodeKey</code> class that we have implemented before. With this class, try to make it so the user of the kv store does not have to create a <code>NodeKey</code> objects first before calling <code>set()</code> on the kv store.\n",
    "\n",
    "## 2. Verify Type of Key and Setting <code>\\_\\_init\\_\\_()</code> of Parent Class\n",
    "\n",
    "Right now we allow any type to be set as our key. For our kv store to work with a b-tree, we need to set some data type as our key. If we don't then we would be doing comparisons on <code>ints</code> and <code>strs</code> for example. We should override the initializer and set some <code>type</code> that we use to validate the inserted keys in our <code>set()</code> method.\n",
    "\n",
    "An important thing to note is that when overriding the <code>\\_\\_init\\_\\_()</code> method, we also want to also call the parent <code>\\_\\_init\\_\\_()</code> method. If you don't then we would not be able to set the <code>self.t</code> and <code>self.root</code> properties that are expected. To call the parent <code>\\_\\_init\\_\\_()</code> method, we use a function named <code>super()</code> which is just another way of writing the <code>BTree</code> class.\n",
    "\n",
    "## 3. New Range Query Method\n",
    "\n",
    "The current range queries for <code>greater_than()</code> and <code>less_than()</code> are a bit tedious to work with. First, you have to pass in the root node, then you have to pass in a value, an optional upper bound, and then an inclusive! All these can be frustrating for a user who just wants to do a simple range query on their data.\n",
    "\n",
    "To solve this user experience problem, we will implement a new range query method that will abstract away the tedious work for the user. We will still use the old range queries under the hood, but we provide the user with better error returns so they can iteratively learn how to use the range query.\n",
    "\n",
    "The user should not have to pass in the root node, it's too tedious to remember every time.\n",
    "\n",
    "## 4. Dump and Load the KV Store\n",
    "\n",
    "Now it's time to get to the bread and butter of the kv store, saving and loading it to disk. The behavior we want to provide is to let a user pass in a filename to load or save to the object to disk. To make it easier for the user, we will attach a our filetype name to the end and check if that file is available to read or write out to.\n",
    "\n",
    "However, one thing to keep in mind is that we want to provide a <code>load()</code> function that is not an instance method of the <code>DQKV</code> class. The reason being is that we want to load from a file to create a <code>DQKV</code> instance. If it was an instance method, then it would be defeating the purpose of the behavior it is trying to provide.\n",
    "\n",
    "## 5. Load from Dictonary\n",
    "\n",
    "Write a <code>load_from_dict()</code> method that loads in keys and values from a Python <code>dict</code>."
   ]
  },
  {
   "cell_type": "code",
   "execution_count": 1,
   "metadata": {},
   "outputs": [],
   "source": [
    "from btree_DataQuest import NodeKey, Node, BTree\n",
    "import pickle"
   ]
  },
  {
   "cell_type": "markdown",
   "metadata": {},
   "source": [
    "### Creating DQKV class"
   ]
  },
  {
   "cell_type": "code",
   "execution_count": 2,
   "metadata": {},
   "outputs": [],
   "source": [
    "class DQKV(BTree):\n",
    "    def __init__(self, type_):\n",
    "        self.type = type_\n",
    "        super().__init__(3) # Sets t (degree) of BTree\n",
    "    \n",
    "    def set(self, key, value):\n",
    "        \"\"\"\n",
    "        Sets NodeKey in BTree Structure\n",
    "        \"\"\"\n",
    "        \n",
    "        # Check for failing conditions\n",
    "        if value == None:\n",
    "            raise ValueError('value can not be None')\n",
    "        if not isinstance(key, self.type):\n",
    "            raise KeyError('key must be type {}'.format(self.type))\n",
    "        if self.search(self.root, key) != None:\n",
    "            raise ValueError('key must be unique')\n",
    "            \n",
    "        self.insert(NodeKey(key,value))\n",
    "        \n",
    "    def get(self, key):\n",
    "        \"\"\"\n",
    "        Gets value with given key\n",
    "        \"\"\"\n",
    "        result = self.search(self.root, key)\n",
    "        \n",
    "        if result == None:\n",
    "            raise Exception('key \"{}\" not in key-value database'.format(key))\n",
    "        else:\n",
    "            return result\n",
    "    \n",
    "    def range_query(self, l, inclusive=False):\n",
    "        \"\"\"\n",
    "        Return keys within provided list\n",
    "        l: list with two values, lower and upper\n",
    "        \"\"\"\n",
    "        \n",
    "        # Check for failing conditions\n",
    "        if len(l) != 2:\n",
    "            raise TypeError('l needs two values, {} were given'.format(len(l)))\n",
    "        for v in l:\n",
    "            if isinstance(v, self.type) or isinstance(v, type(None)):\n",
    "                pass\n",
    "            else:\n",
    "                raise TypeError('l values must be {} or {}'.format(self.type,type(None)))\n",
    "        \n",
    "        lower = l[0]\n",
    "        upper = l[1]\n",
    "        \n",
    "        if upper == None:\n",
    "            return self.greater_than(self.root, lower, inclusive=inclusive)\n",
    "        if lower == None:\n",
    "            return self.less_than(self.root, upper, inclusive=inclusive)\n",
    "        \n",
    "        return self.greater_than(self.root, lower, upper_bound=upper, inclusive=inclusive)\n",
    "    \n",
    "    def dump(self, file):\n",
    "        \"\"\"\n",
    "        Save Key-Value data to file on disk\n",
    "        \"\"\"\n",
    "\n",
    "        # Check for failing conditions\n",
    "        if not isinstance(file, str):\n",
    "            raise TypeError('file names needs to be {}'.format(type(str)))\n",
    "        \n",
    "        ending = '.dqdb'\n",
    "        f_name = file + ending\n",
    "        \n",
    "        with open(f_name, 'wb') as f:\n",
    "            pickle.dump(self,f)\n",
    "            \n",
    "    def load_from_dict(self, d):\n",
    "        \"\"\"\n",
    "        Load data from a dictonary\n",
    "        \"\"\"\n",
    "        \n",
    "        for k,v in d.items():\n",
    "            self.set(k,v)\n",
    "        \n",
    "def load_dqkv(file):\n",
    "    \"\"\"\n",
    "    Load Key-Value data from disk\n",
    "    \"\"\"\n",
    "    \n",
    "    ending = '.dqdb'\n",
    "    f_name = file + ending\n",
    "    \n",
    "    with open(f_name, 'rb') as f:\n",
    "        return pickle.load(f)"
   ]
  },
  {
   "cell_type": "markdown",
   "metadata": {},
   "source": [
    "#### Testing Cases Point 1. Creating a Key-Value Store Class"
   ]
  },
  {
   "cell_type": "code",
   "execution_count": 3,
   "metadata": {},
   "outputs": [
    {
     "name": "stdout",
     "output_type": "stream",
     "text": [
      "<Node: [<NodeKey: (5, 7)>, <NodeKey: (6, 12)>, <NodeKey: (8, 9)>, <NodeKey: (9, 1)>, <NodeKey: (10, 15)>]>\n",
      "[]\n"
     ]
    }
   ],
   "source": [
    "dqkv = DQKV(int)\n",
    "dqkv.set(5,7)\n",
    "dqkv.set(6,12)\n",
    "dqkv.set(8,9)\n",
    "dqkv.set(9,1)\n",
    "dqkv.set(10,15)\n",
    "print(dqkv.root)\n",
    "print(dqkv.root.children)"
   ]
  },
  {
   "cell_type": "code",
   "execution_count": 4,
   "metadata": {},
   "outputs": [
    {
     "ename": "ValueError",
     "evalue": "value can not be None",
     "output_type": "error",
     "traceback": [
      "\u001b[1;31m---------------------------------------------------------------------------\u001b[0m",
      "\u001b[1;31mValueError\u001b[0m                                Traceback (most recent call last)",
      "\u001b[1;32m<ipython-input-4-94761d961582>\u001b[0m in \u001b[0;36m<module>\u001b[1;34m\u001b[0m\n\u001b[0;32m      1\u001b[0m \u001b[1;31m# Value == None Exception\u001b[0m\u001b[1;33m\u001b[0m\u001b[1;33m\u001b[0m\u001b[1;33m\u001b[0m\u001b[0m\n\u001b[1;32m----> 2\u001b[1;33m \u001b[0mdqkv\u001b[0m\u001b[1;33m.\u001b[0m\u001b[0mset\u001b[0m\u001b[1;33m(\u001b[0m\u001b[1;36m7\u001b[0m\u001b[1;33m,\u001b[0m \u001b[1;32mNone\u001b[0m\u001b[1;33m)\u001b[0m\u001b[1;33m\u001b[0m\u001b[1;33m\u001b[0m\u001b[0m\n\u001b[0m",
      "\u001b[1;32m<ipython-input-2-9df16d439d0e>\u001b[0m in \u001b[0;36mset\u001b[1;34m(self, key, value)\u001b[0m\n\u001b[0;32m     11\u001b[0m         \u001b[1;31m# Check for failing conditions\u001b[0m\u001b[1;33m\u001b[0m\u001b[1;33m\u001b[0m\u001b[1;33m\u001b[0m\u001b[0m\n\u001b[0;32m     12\u001b[0m         \u001b[1;32mif\u001b[0m \u001b[0mvalue\u001b[0m \u001b[1;33m==\u001b[0m \u001b[1;32mNone\u001b[0m\u001b[1;33m:\u001b[0m\u001b[1;33m\u001b[0m\u001b[1;33m\u001b[0m\u001b[0m\n\u001b[1;32m---> 13\u001b[1;33m             \u001b[1;32mraise\u001b[0m \u001b[0mValueError\u001b[0m\u001b[1;33m(\u001b[0m\u001b[1;34m'value can not be None'\u001b[0m\u001b[1;33m)\u001b[0m\u001b[1;33m\u001b[0m\u001b[1;33m\u001b[0m\u001b[0m\n\u001b[0m\u001b[0;32m     14\u001b[0m         \u001b[1;32mif\u001b[0m \u001b[1;32mnot\u001b[0m \u001b[0misinstance\u001b[0m\u001b[1;33m(\u001b[0m\u001b[0mkey\u001b[0m\u001b[1;33m,\u001b[0m \u001b[0mself\u001b[0m\u001b[1;33m.\u001b[0m\u001b[0mtype\u001b[0m\u001b[1;33m)\u001b[0m\u001b[1;33m:\u001b[0m\u001b[1;33m\u001b[0m\u001b[1;33m\u001b[0m\u001b[0m\n\u001b[0;32m     15\u001b[0m             \u001b[1;32mraise\u001b[0m \u001b[0mKeyError\u001b[0m\u001b[1;33m(\u001b[0m\u001b[1;34m'key must be type {}'\u001b[0m\u001b[1;33m.\u001b[0m\u001b[0mformat\u001b[0m\u001b[1;33m(\u001b[0m\u001b[0mself\u001b[0m\u001b[1;33m.\u001b[0m\u001b[0mtype\u001b[0m\u001b[1;33m)\u001b[0m\u001b[1;33m)\u001b[0m\u001b[1;33m\u001b[0m\u001b[1;33m\u001b[0m\u001b[0m\n",
      "\u001b[1;31mValueError\u001b[0m: value can not be None"
     ]
    }
   ],
   "source": [
    "# Value == None Exception\n",
    "dqkv.set(7, None)"
   ]
  },
  {
   "cell_type": "code",
   "execution_count": 5,
   "metadata": {},
   "outputs": [
    {
     "ename": "ValueError",
     "evalue": "key must be unique",
     "output_type": "error",
     "traceback": [
      "\u001b[1;31m---------------------------------------------------------------------------\u001b[0m",
      "\u001b[1;31mValueError\u001b[0m                                Traceback (most recent call last)",
      "\u001b[1;32m<ipython-input-5-02cb5801579a>\u001b[0m in \u001b[0;36m<module>\u001b[1;34m\u001b[0m\n\u001b[0;32m      1\u001b[0m \u001b[1;31m# Key Can not be in database\u001b[0m\u001b[1;33m\u001b[0m\u001b[1;33m\u001b[0m\u001b[1;33m\u001b[0m\u001b[0m\n\u001b[1;32m----> 2\u001b[1;33m \u001b[0mdqkv\u001b[0m\u001b[1;33m.\u001b[0m\u001b[0mset\u001b[0m\u001b[1;33m(\u001b[0m\u001b[1;36m5\u001b[0m\u001b[1;33m,\u001b[0m\u001b[1;36m12\u001b[0m\u001b[1;33m)\u001b[0m\u001b[1;33m\u001b[0m\u001b[1;33m\u001b[0m\u001b[0m\n\u001b[0m",
      "\u001b[1;32m<ipython-input-2-9df16d439d0e>\u001b[0m in \u001b[0;36mset\u001b[1;34m(self, key, value)\u001b[0m\n\u001b[0;32m     15\u001b[0m             \u001b[1;32mraise\u001b[0m \u001b[0mKeyError\u001b[0m\u001b[1;33m(\u001b[0m\u001b[1;34m'key must be type {}'\u001b[0m\u001b[1;33m.\u001b[0m\u001b[0mformat\u001b[0m\u001b[1;33m(\u001b[0m\u001b[0mself\u001b[0m\u001b[1;33m.\u001b[0m\u001b[0mtype\u001b[0m\u001b[1;33m)\u001b[0m\u001b[1;33m)\u001b[0m\u001b[1;33m\u001b[0m\u001b[1;33m\u001b[0m\u001b[0m\n\u001b[0;32m     16\u001b[0m         \u001b[1;32mif\u001b[0m \u001b[0mself\u001b[0m\u001b[1;33m.\u001b[0m\u001b[0msearch\u001b[0m\u001b[1;33m(\u001b[0m\u001b[0mself\u001b[0m\u001b[1;33m.\u001b[0m\u001b[0mroot\u001b[0m\u001b[1;33m,\u001b[0m \u001b[0mkey\u001b[0m\u001b[1;33m)\u001b[0m \u001b[1;33m!=\u001b[0m \u001b[1;32mNone\u001b[0m\u001b[1;33m:\u001b[0m\u001b[1;33m\u001b[0m\u001b[1;33m\u001b[0m\u001b[0m\n\u001b[1;32m---> 17\u001b[1;33m             \u001b[1;32mraise\u001b[0m \u001b[0mValueError\u001b[0m\u001b[1;33m(\u001b[0m\u001b[1;34m'key must be unique'\u001b[0m\u001b[1;33m)\u001b[0m\u001b[1;33m\u001b[0m\u001b[1;33m\u001b[0m\u001b[0m\n\u001b[0m\u001b[0;32m     18\u001b[0m \u001b[1;33m\u001b[0m\u001b[0m\n\u001b[0;32m     19\u001b[0m         \u001b[0mself\u001b[0m\u001b[1;33m.\u001b[0m\u001b[0minsert\u001b[0m\u001b[1;33m(\u001b[0m\u001b[0mNodeKey\u001b[0m\u001b[1;33m(\u001b[0m\u001b[0mkey\u001b[0m\u001b[1;33m,\u001b[0m\u001b[0mvalue\u001b[0m\u001b[1;33m)\u001b[0m\u001b[1;33m)\u001b[0m\u001b[1;33m\u001b[0m\u001b[1;33m\u001b[0m\u001b[0m\n",
      "\u001b[1;31mValueError\u001b[0m: key must be unique"
     ]
    }
   ],
   "source": [
    "# Key Can not be in database\n",
    "dqkv.set(5,12)"
   ]
  },
  {
   "cell_type": "code",
   "execution_count": 6,
   "metadata": {},
   "outputs": [
    {
     "ename": "Exception",
     "evalue": "key \"47\" not in key-value database",
     "output_type": "error",
     "traceback": [
      "\u001b[1;31m---------------------------------------------------------------------------\u001b[0m",
      "\u001b[1;31mException\u001b[0m                                 Traceback (most recent call last)",
      "\u001b[1;32m<ipython-input-6-5416eff78fcc>\u001b[0m in \u001b[0;36m<module>\u001b[1;34m\u001b[0m\n\u001b[0;32m      1\u001b[0m \u001b[1;31m# Key not found exception\u001b[0m\u001b[1;33m\u001b[0m\u001b[1;33m\u001b[0m\u001b[1;33m\u001b[0m\u001b[0m\n\u001b[1;32m----> 2\u001b[1;33m \u001b[0mdqkv\u001b[0m\u001b[1;33m.\u001b[0m\u001b[0mget\u001b[0m\u001b[1;33m(\u001b[0m\u001b[1;36m47\u001b[0m\u001b[1;33m)\u001b[0m\u001b[1;33m\u001b[0m\u001b[1;33m\u001b[0m\u001b[0m\n\u001b[0m",
      "\u001b[1;32m<ipython-input-2-9df16d439d0e>\u001b[0m in \u001b[0;36mget\u001b[1;34m(self, key)\u001b[0m\n\u001b[0;32m     26\u001b[0m \u001b[1;33m\u001b[0m\u001b[0m\n\u001b[0;32m     27\u001b[0m         \u001b[1;32mif\u001b[0m \u001b[0mresult\u001b[0m \u001b[1;33m==\u001b[0m \u001b[1;32mNone\u001b[0m\u001b[1;33m:\u001b[0m\u001b[1;33m\u001b[0m\u001b[1;33m\u001b[0m\u001b[0m\n\u001b[1;32m---> 28\u001b[1;33m             \u001b[1;32mraise\u001b[0m \u001b[0mException\u001b[0m\u001b[1;33m(\u001b[0m\u001b[1;34m'key \"{}\" not in key-value database'\u001b[0m\u001b[1;33m.\u001b[0m\u001b[0mformat\u001b[0m\u001b[1;33m(\u001b[0m\u001b[0mkey\u001b[0m\u001b[1;33m)\u001b[0m\u001b[1;33m)\u001b[0m\u001b[1;33m\u001b[0m\u001b[1;33m\u001b[0m\u001b[0m\n\u001b[0m\u001b[0;32m     29\u001b[0m         \u001b[1;32melse\u001b[0m\u001b[1;33m:\u001b[0m\u001b[1;33m\u001b[0m\u001b[1;33m\u001b[0m\u001b[0m\n\u001b[0;32m     30\u001b[0m             \u001b[1;32mreturn\u001b[0m \u001b[0mresult\u001b[0m\u001b[1;33m\u001b[0m\u001b[1;33m\u001b[0m\u001b[0m\n",
      "\u001b[1;31mException\u001b[0m: key \"47\" not in key-value database"
     ]
    }
   ],
   "source": [
    "# Key not found exception\n",
    "dqkv.get(47)"
   ]
  },
  {
   "cell_type": "markdown",
   "metadata": {},
   "source": [
    "#### Testing Cases Point 2. Verify Type of Key and Setting <code>\\_\\_init\\_\\_()</code> of Parent Class"
   ]
  },
  {
   "cell_type": "code",
   "execution_count": 7,
   "metadata": {},
   "outputs": [
    {
     "ename": "KeyError",
     "evalue": "\"key must be type <class 'int'>\"",
     "output_type": "error",
     "traceback": [
      "\u001b[1;31m---------------------------------------------------------------------------\u001b[0m",
      "\u001b[1;31mKeyError\u001b[0m                                  Traceback (most recent call last)",
      "\u001b[1;32m<ipython-input-7-61d0f0514479>\u001b[0m in \u001b[0;36m<module>\u001b[1;34m\u001b[0m\n\u001b[0;32m      1\u001b[0m \u001b[1;31m# Type Error\u001b[0m\u001b[1;33m\u001b[0m\u001b[1;33m\u001b[0m\u001b[1;33m\u001b[0m\u001b[0m\n\u001b[1;32m----> 2\u001b[1;33m \u001b[0mdqkv\u001b[0m\u001b[1;33m.\u001b[0m\u001b[0mset\u001b[0m\u001b[1;33m(\u001b[0m\u001b[1;34m'text'\u001b[0m\u001b[1;33m,\u001b[0m\u001b[1;36m47\u001b[0m\u001b[1;33m)\u001b[0m\u001b[1;33m\u001b[0m\u001b[1;33m\u001b[0m\u001b[0m\n\u001b[0m",
      "\u001b[1;32m<ipython-input-2-9df16d439d0e>\u001b[0m in \u001b[0;36mset\u001b[1;34m(self, key, value)\u001b[0m\n\u001b[0;32m     13\u001b[0m             \u001b[1;32mraise\u001b[0m \u001b[0mValueError\u001b[0m\u001b[1;33m(\u001b[0m\u001b[1;34m'value can not be None'\u001b[0m\u001b[1;33m)\u001b[0m\u001b[1;33m\u001b[0m\u001b[1;33m\u001b[0m\u001b[0m\n\u001b[0;32m     14\u001b[0m         \u001b[1;32mif\u001b[0m \u001b[1;32mnot\u001b[0m \u001b[0misinstance\u001b[0m\u001b[1;33m(\u001b[0m\u001b[0mkey\u001b[0m\u001b[1;33m,\u001b[0m \u001b[0mself\u001b[0m\u001b[1;33m.\u001b[0m\u001b[0mtype\u001b[0m\u001b[1;33m)\u001b[0m\u001b[1;33m:\u001b[0m\u001b[1;33m\u001b[0m\u001b[1;33m\u001b[0m\u001b[0m\n\u001b[1;32m---> 15\u001b[1;33m             \u001b[1;32mraise\u001b[0m \u001b[0mKeyError\u001b[0m\u001b[1;33m(\u001b[0m\u001b[1;34m'key must be type {}'\u001b[0m\u001b[1;33m.\u001b[0m\u001b[0mformat\u001b[0m\u001b[1;33m(\u001b[0m\u001b[0mself\u001b[0m\u001b[1;33m.\u001b[0m\u001b[0mtype\u001b[0m\u001b[1;33m)\u001b[0m\u001b[1;33m)\u001b[0m\u001b[1;33m\u001b[0m\u001b[1;33m\u001b[0m\u001b[0m\n\u001b[0m\u001b[0;32m     16\u001b[0m         \u001b[1;32mif\u001b[0m \u001b[0mself\u001b[0m\u001b[1;33m.\u001b[0m\u001b[0msearch\u001b[0m\u001b[1;33m(\u001b[0m\u001b[0mself\u001b[0m\u001b[1;33m.\u001b[0m\u001b[0mroot\u001b[0m\u001b[1;33m,\u001b[0m \u001b[0mkey\u001b[0m\u001b[1;33m)\u001b[0m \u001b[1;33m!=\u001b[0m \u001b[1;32mNone\u001b[0m\u001b[1;33m:\u001b[0m\u001b[1;33m\u001b[0m\u001b[1;33m\u001b[0m\u001b[0m\n\u001b[0;32m     17\u001b[0m             \u001b[1;32mraise\u001b[0m \u001b[0mValueError\u001b[0m\u001b[1;33m(\u001b[0m\u001b[1;34m'key must be unique'\u001b[0m\u001b[1;33m)\u001b[0m\u001b[1;33m\u001b[0m\u001b[1;33m\u001b[0m\u001b[0m\n",
      "\u001b[1;31mKeyError\u001b[0m: \"key must be type <class 'int'>\""
     ]
    }
   ],
   "source": [
    "# Type Error\n",
    "dqkv.set('text',47)"
   ]
  },
  {
   "cell_type": "markdown",
   "metadata": {},
   "source": [
    "#### Testing Cases Point 3. New Range Query Method"
   ]
  },
  {
   "cell_type": "code",
   "execution_count": 8,
   "metadata": {},
   "outputs": [
    {
     "ename": "TypeError",
     "evalue": "l values must be <class 'int'> or <class 'NoneType'>",
     "output_type": "error",
     "traceback": [
      "\u001b[1;31m---------------------------------------------------------------------------\u001b[0m",
      "\u001b[1;31mTypeError\u001b[0m                                 Traceback (most recent call last)",
      "\u001b[1;32m<ipython-input-8-d8c2c70a645c>\u001b[0m in \u001b[0;36m<module>\u001b[1;34m\u001b[0m\n\u001b[1;32m----> 1\u001b[1;33m \u001b[0mdqkv\u001b[0m\u001b[1;33m.\u001b[0m\u001b[0mrange_query\u001b[0m\u001b[1;33m(\u001b[0m\u001b[1;33m[\u001b[0m\u001b[1;36m5.0\u001b[0m\u001b[1;33m,\u001b[0m\u001b[1;32mNone\u001b[0m\u001b[1;33m]\u001b[0m\u001b[1;33m)\u001b[0m\u001b[1;33m\u001b[0m\u001b[1;33m\u001b[0m\u001b[0m\n\u001b[0m",
      "\u001b[1;32m<ipython-input-2-9df16d439d0e>\u001b[0m in \u001b[0;36mrange_query\u001b[1;34m(self, l, inclusive)\u001b[0m\n\u001b[0;32m     43\u001b[0m                 \u001b[1;32mpass\u001b[0m\u001b[1;33m\u001b[0m\u001b[1;33m\u001b[0m\u001b[0m\n\u001b[0;32m     44\u001b[0m             \u001b[1;32melse\u001b[0m\u001b[1;33m:\u001b[0m\u001b[1;33m\u001b[0m\u001b[1;33m\u001b[0m\u001b[0m\n\u001b[1;32m---> 45\u001b[1;33m                 \u001b[1;32mraise\u001b[0m \u001b[0mTypeError\u001b[0m\u001b[1;33m(\u001b[0m\u001b[1;34m'l values must be {} or {}'\u001b[0m\u001b[1;33m.\u001b[0m\u001b[0mformat\u001b[0m\u001b[1;33m(\u001b[0m\u001b[0mself\u001b[0m\u001b[1;33m.\u001b[0m\u001b[0mtype\u001b[0m\u001b[1;33m,\u001b[0m\u001b[0mtype\u001b[0m\u001b[1;33m(\u001b[0m\u001b[1;32mNone\u001b[0m\u001b[1;33m)\u001b[0m\u001b[1;33m)\u001b[0m\u001b[1;33m)\u001b[0m\u001b[1;33m\u001b[0m\u001b[1;33m\u001b[0m\u001b[0m\n\u001b[0m\u001b[0;32m     46\u001b[0m \u001b[1;33m\u001b[0m\u001b[0m\n\u001b[0;32m     47\u001b[0m         \u001b[0mlower\u001b[0m \u001b[1;33m=\u001b[0m \u001b[0ml\u001b[0m\u001b[1;33m[\u001b[0m\u001b[1;36m0\u001b[0m\u001b[1;33m]\u001b[0m\u001b[1;33m\u001b[0m\u001b[1;33m\u001b[0m\u001b[0m\n",
      "\u001b[1;31mTypeError\u001b[0m: l values must be <class 'int'> or <class 'NoneType'>"
     ]
    }
   ],
   "source": [
    "dqkv.range_query([5.0,None])"
   ]
  },
  {
   "cell_type": "code",
   "execution_count": 9,
   "metadata": {},
   "outputs": [
    {
     "ename": "TypeError",
     "evalue": "l needs two values, 1 were given",
     "output_type": "error",
     "traceback": [
      "\u001b[1;31m---------------------------------------------------------------------------\u001b[0m",
      "\u001b[1;31mTypeError\u001b[0m                                 Traceback (most recent call last)",
      "\u001b[1;32m<ipython-input-9-bc3989bfb82e>\u001b[0m in \u001b[0;36m<module>\u001b[1;34m\u001b[0m\n\u001b[1;32m----> 1\u001b[1;33m \u001b[0mdqkv\u001b[0m\u001b[1;33m.\u001b[0m\u001b[0mrange_query\u001b[0m\u001b[1;33m(\u001b[0m\u001b[1;33m[\u001b[0m\u001b[1;36m0\u001b[0m\u001b[1;33m]\u001b[0m\u001b[1;33m)\u001b[0m\u001b[1;33m\u001b[0m\u001b[1;33m\u001b[0m\u001b[0m\n\u001b[0m",
      "\u001b[1;32m<ipython-input-2-9df16d439d0e>\u001b[0m in \u001b[0;36mrange_query\u001b[1;34m(self, l, inclusive)\u001b[0m\n\u001b[0;32m     38\u001b[0m         \u001b[1;31m# Check for failing conditions\u001b[0m\u001b[1;33m\u001b[0m\u001b[1;33m\u001b[0m\u001b[1;33m\u001b[0m\u001b[0m\n\u001b[0;32m     39\u001b[0m         \u001b[1;32mif\u001b[0m \u001b[0mlen\u001b[0m\u001b[1;33m(\u001b[0m\u001b[0ml\u001b[0m\u001b[1;33m)\u001b[0m \u001b[1;33m!=\u001b[0m \u001b[1;36m2\u001b[0m\u001b[1;33m:\u001b[0m\u001b[1;33m\u001b[0m\u001b[1;33m\u001b[0m\u001b[0m\n\u001b[1;32m---> 40\u001b[1;33m             \u001b[1;32mraise\u001b[0m \u001b[0mTypeError\u001b[0m\u001b[1;33m(\u001b[0m\u001b[1;34m'l needs two values, {} were given'\u001b[0m\u001b[1;33m.\u001b[0m\u001b[0mformat\u001b[0m\u001b[1;33m(\u001b[0m\u001b[0mlen\u001b[0m\u001b[1;33m(\u001b[0m\u001b[0ml\u001b[0m\u001b[1;33m)\u001b[0m\u001b[1;33m)\u001b[0m\u001b[1;33m)\u001b[0m\u001b[1;33m\u001b[0m\u001b[1;33m\u001b[0m\u001b[0m\n\u001b[0m\u001b[0;32m     41\u001b[0m         \u001b[1;32mfor\u001b[0m \u001b[0mv\u001b[0m \u001b[1;32min\u001b[0m \u001b[0ml\u001b[0m\u001b[1;33m:\u001b[0m\u001b[1;33m\u001b[0m\u001b[1;33m\u001b[0m\u001b[0m\n\u001b[0;32m     42\u001b[0m             \u001b[1;32mif\u001b[0m \u001b[0misinstance\u001b[0m\u001b[1;33m(\u001b[0m\u001b[0mv\u001b[0m\u001b[1;33m,\u001b[0m \u001b[0mself\u001b[0m\u001b[1;33m.\u001b[0m\u001b[0mtype\u001b[0m\u001b[1;33m)\u001b[0m \u001b[1;32mor\u001b[0m \u001b[0misinstance\u001b[0m\u001b[1;33m(\u001b[0m\u001b[0mv\u001b[0m\u001b[1;33m,\u001b[0m \u001b[0mtype\u001b[0m\u001b[1;33m(\u001b[0m\u001b[1;32mNone\u001b[0m\u001b[1;33m)\u001b[0m\u001b[1;33m)\u001b[0m\u001b[1;33m:\u001b[0m\u001b[1;33m\u001b[0m\u001b[1;33m\u001b[0m\u001b[0m\n",
      "\u001b[1;31mTypeError\u001b[0m: l needs two values, 1 were given"
     ]
    }
   ],
   "source": [
    "dqkv.range_query([0])"
   ]
  },
  {
   "cell_type": "code",
   "execution_count": 10,
   "metadata": {
    "scrolled": true
   },
   "outputs": [
    {
     "data": {
      "text/plain": [
       "[<NodeKey: (5, 7)>,\n",
       " <NodeKey: (6, 12)>,\n",
       " <NodeKey: (8, 9)>,\n",
       " <NodeKey: (9, 1)>,\n",
       " <NodeKey: (10, 15)>]"
      ]
     },
     "execution_count": 10,
     "metadata": {},
     "output_type": "execute_result"
    }
   ],
   "source": [
    "dqkv.range_query([0,None])"
   ]
  },
  {
   "cell_type": "markdown",
   "metadata": {},
   "source": [
    "#### Testing Cases Point 4. Dump and Load the KV Store"
   ]
  },
  {
   "cell_type": "code",
   "execution_count": 11,
   "metadata": {},
   "outputs": [],
   "source": [
    "dqkv.dump('test_1')"
   ]
  },
  {
   "cell_type": "code",
   "execution_count": 12,
   "metadata": {},
   "outputs": [],
   "source": [
    "return_1 = load_dqkv('test_1')"
   ]
  },
  {
   "cell_type": "code",
   "execution_count": 13,
   "metadata": {},
   "outputs": [
    {
     "data": {
      "text/plain": [
       "<Node: [<NodeKey: (5, 7)>, <NodeKey: (6, 12)>, <NodeKey: (8, 9)>, <NodeKey: (9, 1)>, <NodeKey: (10, 15)>]>"
      ]
     },
     "execution_count": 13,
     "metadata": {},
     "output_type": "execute_result"
    }
   ],
   "source": [
    "return_1.root"
   ]
  },
  {
   "cell_type": "markdown",
   "metadata": {},
   "source": [
    "#### Testing Case Point 5. Load From Dictonary"
   ]
  },
  {
   "cell_type": "code",
   "execution_count": 14,
   "metadata": {},
   "outputs": [],
   "source": [
    "dqkv.load_from_dict({101: \"test_101\",102:\"test_102\"})"
   ]
  },
  {
   "cell_type": "code",
   "execution_count": 15,
   "metadata": {},
   "outputs": [
    {
     "name": "stdout",
     "output_type": "stream",
     "text": [
      "<Node: [<NodeKey: (8, 9)>]>\n",
      "[<Node: [<NodeKey: (5, 7)>, <NodeKey: (6, 12)>]>, <Node: [<NodeKey: (9, 1)>, <NodeKey: (10, 15)>, <NodeKey: (101, test_101)>, <NodeKey: (102, test_102)>]>]\n"
     ]
    }
   ],
   "source": [
    "print(dqkv.root)\n",
    "print(dqkv.root.children)"
   ]
  }
 ],
 "metadata": {
  "kernelspec": {
   "display_name": "Python 3",
   "language": "python",
   "name": "python3"
  }
 },
 "nbformat": 4,
 "nbformat_minor": 4
}
