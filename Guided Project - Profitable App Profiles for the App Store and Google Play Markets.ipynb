{
 "cells": [
  {
   "cell_type": "markdown",
   "metadata": {},
   "source": [
    "# Guided Project: Profitable App Profiles for the App Store and Google Play Markets\n",
    "\n",
    "For this project, we'll pretend we're working as a data analysts for a company that builds Android and iOS mobile apps. We make our apps available on Google Play and the App Store.\n",
    "\n",
    "We only build apps that are free to download and install, and our main source of revenue consists of in-app ads. This means our revenue for any given app is mostly influenced by the number of users who use our app — the more users that see and engage with the ads, the better. Our goal for this project is to analyze data to help our developers understand what type of apps are likely to attract more users."
   ]
  },
  {
   "cell_type": "code",
   "execution_count": 1,
   "metadata": {},
   "outputs": [],
   "source": [
    "import csv\n",
    "import pprint"
   ]
  },
  {
   "cell_type": "code",
   "execution_count": 2,
   "metadata": {},
   "outputs": [],
   "source": [
    "def explore_data(dataset, start, end, rows_and_columns=False):\n",
    "    dataset_slice = dataset[start:end]    \n",
    "    for row in dataset_slice:\n",
    "        print(row)\n",
    "        print('\\n') # adds a new (empty) line after each row\n",
    "\n",
    "    if rows_and_columns:\n",
    "        print('Number of rows:', len(dataset))\n",
    "        print('Number of columns:', len(dataset[0]))"
   ]
  },
  {
   "cell_type": "code",
   "execution_count": 3,
   "metadata": {},
   "outputs": [
    {
     "output_type": "stream",
     "name": "stdout",
     "text": [
      "Apple Store Data\n['id', 'track_name', 'size_bytes', 'currency', 'price', 'rating_count_tot', 'rating_count_ver', 'user_rating', 'user_rating_ver', 'ver', 'cont_rating', 'prime_genre', 'sup_devices.num', 'ipadSc_urls.num', 'lang.num', 'vpp_lic']\n\n\n['284882215', 'Facebook', '389879808', 'USD', '0.0', '2974676', '212', '3.5', '3.5', '95.0', '4+', 'Social Networking', '37', '1', '29', '1']\n\n\n['389801252', 'Instagram', '113954816', 'USD', '0.0', '2161558', '1289', '4.5', '4.0', '10.23', '12+', 'Photo & Video', '37', '0', '29', '1']\n\n\nGoogle Play Store Data\n['App', 'Category', 'Rating', 'Reviews', 'Size', 'Installs', 'Type', 'Price', 'Content Rating', 'Genres', 'Last Updated', 'Current Ver', 'Android Ver']\n\n\n['Photo Editor & Candy Camera & Grid & ScrapBook', 'ART_AND_DESIGN', '4.1', '159', '19M', '10,000+', 'Free', '0', 'Everyone', 'Art & Design', 'January 7, 2018', '1.0.0', '4.0.3 and up']\n\n\n['Coloring book moana', 'ART_AND_DESIGN', '3.9', '967', '14M', '500,000+', 'Free', '0', 'Everyone', 'Art & Design;Pretend Play', 'January 15, 2018', '2.0.0', '4.0.3 and up']\n\n\n"
     ]
    }
   ],
   "source": [
    "# Import to data sets\n",
    "apple_store = list(csv.reader(open(\"AppleStore.csv\", encoding=\"utf8\")))\n",
    "google_store = list(csv.reader(open(\"googleplaystore.csv\", encoding=\"utf8\")))\n",
    "\n",
    "# Show First Few Row of data sets\n",
    "print(\"Apple Store Data\")\n",
    "explore_data(apple_store,0,3)\n",
    "print(\"Google Play Store Data\")\n",
    "explore_data(google_store,0,3)"
   ]
  },
  {
   "cell_type": "code",
   "execution_count": 4,
   "metadata": {},
   "outputs": [
    {
     "output_type": "stream",
     "name": "stdout",
     "text": [
      "Error in rating value of 19 for 'Life Made WI-Fi Touchscreen Photo Frame' app.\n"
     ]
    }
   ],
   "source": [
    "# Error in google store data row 10473\n",
    "# Rating Above 5 so error in rating\n",
    "print(\"Error in rating value of {} for '{}' app.\".format(google_store[10473][2],google_store[10473][0]))"
   ]
  },
  {
   "cell_type": "code",
   "execution_count": 5,
   "metadata": {},
   "outputs": [],
   "source": [
    "# delete bad row of data\n",
    "del google_store[10473]"
   ]
  },
  {
   "cell_type": "markdown",
   "metadata": {},
   "source": [
    "## Removing duplicate app data rows"
   ]
  },
  {
   "cell_type": "code",
   "execution_count": 6,
   "metadata": {},
   "outputs": [],
   "source": [
    "def unique(list_of_list, index, header=True, print_output=True):\n",
    "    \"\"\"\n",
    "    Makes a list of duplicate and unique values in a list of lists\n",
    "    based on the input index\n",
    "    \"\"\"\n",
    "    \n",
    "    duplicate = []\n",
    "    unique = []\n",
    "    \n",
    "    if header:\n",
    "        for row in list_of_list[1:]:\n",
    "            name = row[index]\n",
    "            if name in unique:\n",
    "                duplicate.append(name)\n",
    "            else:\n",
    "                unique.append(name)\n",
    "    \n",
    "    if print_output:\n",
    "        print(\"Duplicate: \" ,duplicate)\n",
    "        print(\"   Unique: \" ,unique)\n",
    "    \n",
    "    return (duplicate, unique)"
   ]
  },
  {
   "cell_type": "code",
   "execution_count": 7,
   "metadata": {},
   "outputs": [
    {
     "output_type": "stream",
     "name": "stdout",
     "text": [
      "Number of duplicate apps in the google store data:  1181\n['Quick PDF Scanner + OCR FREE', 'Box', 'Google My Business', 'ZOOM Cloud Meetings', 'join.me - Simple Meetings']\n"
     ]
    }
   ],
   "source": [
    "duplicate_google, unique_google = unique(google_store, 0, print_output=False)\n",
    "print(\"Number of duplicate apps in the google store data: \",len(duplicate_google))\n",
    "print(duplicate_google[:5])"
   ]
  },
  {
   "cell_type": "markdown",
   "metadata": {},
   "source": [
    "See the instagram duplicates row in google play store data."
   ]
  },
  {
   "cell_type": "code",
   "execution_count": 8,
   "metadata": {},
   "outputs": [
    {
     "output_type": "stream",
     "name": "stdout",
     "text": [
      "['Instagram', 'SOCIAL', '4.5', '66577313', 'Varies with device', '1,000,000,000+', 'Free', '0', 'Teen', 'Social', 'July 31, 2018', 'Varies with device', 'Varies with device']\n['Instagram', 'SOCIAL', '4.5', '66577446', 'Varies with device', '1,000,000,000+', 'Free', '0', 'Teen', 'Social', 'July 31, 2018', 'Varies with device', 'Varies with device']\n['Instagram', 'SOCIAL', '4.5', '66577313', 'Varies with device', '1,000,000,000+', 'Free', '0', 'Teen', 'Social', 'July 31, 2018', 'Varies with device', 'Varies with device']\n['Instagram', 'SOCIAL', '4.5', '66509917', 'Varies with device', '1,000,000,000+', 'Free', '0', 'Teen', 'Social', 'July 31, 2018', 'Varies with device', 'Varies with device']\n"
     ]
    }
   ],
   "source": [
    "for app in google_store:\n",
    "    name = app[0]\n",
    "    if name == \"Instagram\":\n",
    "        print(app)"
   ]
  },
  {
   "cell_type": "markdown",
   "metadata": {},
   "source": [
    "So we will filter based on the row that has the highest number of ratings in column index 3."
   ]
  },
  {
   "cell_type": "code",
   "execution_count": 9,
   "metadata": {},
   "outputs": [],
   "source": [
    "def find_high_value(list_of_lists, index_1, index_2):\n",
    "    \"\"\"\n",
    "    Creates dict of index_1 unique values and highest of\n",
    "    index_2 value\n",
    "    \"\"\"\n",
    "    \n",
    "    duplicate_dict = {}\n",
    "    \n",
    "    # find highest value in index_2 and create dict of that value\n",
    "    for row in list_of_lists:\n",
    "        name, value = row[index_1], int(row[index_2])\n",
    "        if (name in duplicate_dict) and (duplicate_dict[name] > value):\n",
    "            pass\n",
    "        else:\n",
    "            duplicate_dict[name] = value\n",
    "            \n",
    "    return duplicate_dict"
   ]
  },
  {
   "cell_type": "code",
   "execution_count": 10,
   "metadata": {},
   "outputs": [],
   "source": [
    "def remove_duplicates(list_of_lists, index_1, index_2):\n",
    "    \"\"\"\n",
    "    Removes the duplicate values from a list of lists based on index_1 and \n",
    "    keeps the higher value of the index_2\n",
    "    \"\"\"\n",
    "    \n",
    "    filtered_list_of_lists = []\n",
    "    already_added = []\n",
    "    \n",
    "    duplicate_dict = find_high_value(list_of_lists, index_1, index_2)\n",
    "    \n",
    "    # compose new list_of_lists\n",
    "    for row in list_of_lists:\n",
    "        name, value = row[index_1], int(row[index_2])\n",
    "        if name in duplicate_dict:\n",
    "            if (value == duplicate_dict[name]) and (name not in already_added):\n",
    "                filtered_list_of_lists.append(row)\n",
    "                already_added.append(name)\n",
    "            \n",
    "    return filtered_list_of_lists"
   ]
  },
  {
   "cell_type": "code",
   "execution_count": 11,
   "metadata": {},
   "outputs": [],
   "source": [
    "google_store_dict = find_high_value(google_store[1:],0,3)\n",
    "google_store_no_duplicates = remove_duplicates(google_store[1:],0,3)"
   ]
  },
  {
   "cell_type": "code",
   "execution_count": 12,
   "metadata": {
    "scrolled": true
   },
   "outputs": [
    {
     "output_type": "stream",
     "name": "stdout",
     "text": [
      "Starting length of google store app data: 10841\n      Number of unique names in data set: 9659\n                 Length of filtered data: 9659\n"
     ]
    }
   ],
   "source": [
    "print(\"Starting length of google store app data: {}\".format(len(google_store)))\n",
    "print(\"      Number of unique names in data set: {}\".format(len(google_store_dict)))\n",
    "print(\"                 Length of filtered data: {}\".format((len(google_store_no_duplicates))))"
   ]
  },
  {
   "cell_type": "markdown",
   "metadata": {},
   "source": [
    "## Removing Non English Apps\n",
    "\n",
    "Going to go through and use the corresponding ASCII character number to tell if the name of the app has a character that is not part of the english language. ASCII numbers greater than 127 are generally not part of english titles therefor we will remove any rows that has ASCII character values above 127."
   ]
  },
  {
   "cell_type": "code",
   "execution_count": 13,
   "metadata": {},
   "outputs": [],
   "source": [
    "def english(string):\n",
    "    \"\"\"\n",
    "    Return True if more than three character in a string has an ascii\n",
    "    value of above 127\n",
    "    \"\"\"\n",
    "    count = 0\n",
    "    \n",
    "    for char in string:\n",
    "        ascii_value = ord(char)\n",
    "        if ascii_value > 127:\n",
    "            count +=1\n",
    "    \n",
    "    if count < 4:\n",
    "        return True\n",
    "            \n",
    "    return False"
   ]
  },
  {
   "cell_type": "code",
   "execution_count": 14,
   "metadata": {},
   "outputs": [
    {
     "output_type": "stream",
     "name": "stdout",
     "text": [
      "True\nFalse\nTrue\nTrue\n"
     ]
    }
   ],
   "source": [
    "tests = ['Instagram','爱奇艺PPS -《欢乐颂2》电视剧热播','Docs To Go™ Free Office Suite','Instachat 😜']\n",
    "for row in tests:\n",
    "    print(english(row))"
   ]
  },
  {
   "cell_type": "markdown",
   "metadata": {},
   "source": [
    "Remove any non english app form data set."
   ]
  },
  {
   "cell_type": "code",
   "execution_count": 15,
   "metadata": {},
   "outputs": [],
   "source": [
    "google_store_english = []\n",
    "google_store_non_english = []\n",
    "apple_store_english = []\n",
    "apple_store_non_english = []\n",
    "\n",
    "for row in google_store_no_duplicates:\n",
    "    name = row[0]\n",
    "    if english(name):\n",
    "        google_store_english.append(row)\n",
    "    else:\n",
    "        google_store_non_english.append(row)\n",
    "        \n",
    "for row in apple_store:\n",
    "    name = row[1]\n",
    "    if english(name):\n",
    "        apple_store_english.append(row)\n",
    "    else:\n",
    "        apple_store_non_english.append(row)"
   ]
  },
  {
   "cell_type": "code",
   "execution_count": 16,
   "metadata": {},
   "outputs": [
    {
     "output_type": "stream",
     "name": "stdout",
     "text": [
      "Removed 45 rows from google store data\nRemoved 1014 rows from apple store data\n"
     ]
    }
   ],
   "source": [
    "print(\"Removed {} rows from google store data\".format(len(google_store_non_english)))\n",
    "print(\"Removed {} rows from apple store data\".format(len(apple_store_non_english)))"
   ]
  },
  {
   "cell_type": "markdown",
   "metadata": {},
   "source": [
    "## Keep only free apps of those left"
   ]
  },
  {
   "cell_type": "code",
   "execution_count": 17,
   "metadata": {},
   "outputs": [
    {
     "output_type": "stream",
     "name": "stdout",
     "text": [
      " Types of pay types in apple store: ['price', '0.0', '1.99', '0.99', '6.99', '2.99', '7.99', '4.99', '9.99', '3.99', '8.99', '5.99', '14.99', '13.99', '19.99', '17.99', '15.99', '24.99', '20.99', '29.99', '12.99', '39.99', '74.99', '16.99', '249.99', '11.99', '27.99', '49.99', '59.99', '22.99', '18.99', '99.99', '21.99', '34.99', '299.99']\n",
      "\n",
      "Types of pay types in google store: ['Free', 'Paid', 'NaN']\n"
     ]
    }
   ],
   "source": [
    "apple_pay_types = []\n",
    "google_pay_types = []\n",
    "\n",
    "for row in apple_store_english:\n",
    "    price = row[4]\n",
    "    if price not in apple_pay_types:\n",
    "        apple_pay_types.append(price)\n",
    "\n",
    "\n",
    "for row in google_store_english:\n",
    "    price = row[6]\n",
    "    if price not in google_pay_types:\n",
    "        google_pay_types.append(price)\n",
    "\n",
    "print(\" Types of pay types in apple store: {}\\n\".format(apple_pay_types))\n",
    "print(\"Types of pay types in google store: {}\".format(google_pay_types))"
   ]
  },
  {
   "cell_type": "markdown",
   "metadata": {},
   "source": [
    "So based on keeping only the free apps from each store, I will only keep values marked as '0.0' in the Apple store data and values marked as 'Free' in the google store."
   ]
  },
  {
   "cell_type": "code",
   "execution_count": 18,
   "metadata": {},
   "outputs": [],
   "source": [
    "apple_free = []\n",
    "google_free = []\n",
    "\n",
    "for row in apple_store_english:\n",
    "    price = row[4]\n",
    "    if price == \"0.0\":\n",
    "        apple_free.append(row)\n",
    "\n",
    "for row in google_store_english:\n",
    "    price = row[6]\n",
    "    if price == \"Free\":\n",
    "        google_free.append(row)"
   ]
  },
  {
   "cell_type": "code",
   "execution_count": 19,
   "metadata": {},
   "outputs": [
    {
     "output_type": "stream",
     "name": "stdout",
     "text": [
      " Number of apple apps: 3222\nNumber of google apps: 8863\n"
     ]
    }
   ],
   "source": [
    "print(\" Number of apple apps: {}\".format(len(apple_free)))\n",
    "print(\"Number of google apps: {}\".format(len(google_free)))"
   ]
  },
  {
   "cell_type": "markdown",
   "metadata": {},
   "source": [
    "## Most Common Genres In Free Apps From Google and Apple Stores in English\n",
    "\n",
    "From the data that has been cleaned we will look at the most common genres by type in each app store."
   ]
  },
  {
   "cell_type": "code",
   "execution_count": 20,
   "metadata": {},
   "outputs": [],
   "source": [
    "def freq_table(list_of_list, index):\n",
    "    \n",
    "    dict_values = {}\n",
    "    \n",
    "    for row in list_of_list:\n",
    "        genre = row[index]\n",
    "        if genre in dict_values:\n",
    "            dict_values[genre] += 1\n",
    "        else:\n",
    "            dict_values[genre] = 1\n",
    "            \n",
    "    return dict_values\n",
    "\n",
    "google_free_genre_frq = freq_table(google_free, 1)\n",
    "apple_free_genre_frg = freq_table(apple_free, 11)"
   ]
  },
  {
   "cell_type": "code",
   "execution_count": 21,
   "metadata": {},
   "outputs": [],
   "source": [
    "def tuple_count(list_of_tuples,index):\n",
    "    count = 0\n",
    "\n",
    "    for t in list_of_tuples:\n",
    "        count += t[index]\n",
    "    \n",
    "    return count"
   ]
  },
  {
   "cell_type": "code",
   "execution_count": 22,
   "metadata": {},
   "outputs": [],
   "source": [
    "def count_tuple(list_of_tuple,index):\n",
    "    count = 0\n",
    "\n",
    "    for item in list_of_tuple:\n",
    "        count += item[1]\n",
    "    \n",
    "    return count"
   ]
  },
  {
   "cell_type": "code",
   "execution_count": 23,
   "metadata": {},
   "outputs": [
    {
     "output_type": "stream",
     "name": "stdout",
     "text": [
      "Google Genres By Count\n[('FAMILY', 1675, 0.189),\n ('GAME', 862, 0.0973),\n ('TOOLS', 750, 0.0846),\n ('BUSINESS', 407, 0.0459),\n ('LIFESTYLE', 346, 0.039),\n ('PRODUCTIVITY', 345, 0.0389),\n ('FINANCE', 328, 0.037),\n ('MEDICAL', 313, 0.0353),\n ('SPORTS', 301, 0.034),\n ('PERSONALIZATION', 294, 0.0332),\n ('COMMUNICATION', 287, 0.0324),\n ('HEALTH_AND_FITNESS', 273, 0.0308),\n ('PHOTOGRAPHY', 261, 0.0294),\n ('NEWS_AND_MAGAZINES', 248, 0.028),\n ('SOCIAL', 236, 0.0266),\n ('TRAVEL_AND_LOCAL', 207, 0.0234),\n ('SHOPPING', 199, 0.0225),\n ('BOOKS_AND_REFERENCE', 190, 0.0214),\n ('DATING', 165, 0.0186),\n ('VIDEO_PLAYERS', 159, 0.0179),\n ('MAPS_AND_NAVIGATION', 124, 0.014),\n ('FOOD_AND_DRINK', 110, 0.0124),\n ('EDUCATION', 103, 0.0116),\n ('ENTERTAINMENT', 85, 0.0096),\n ('LIBRARIES_AND_DEMO', 83, 0.0094),\n ('AUTO_AND_VEHICLES', 82, 0.0093),\n ('HOUSE_AND_HOME', 73, 0.0082),\n ('WEATHER', 71, 0.008),\n ('EVENTS', 63, 0.0071),\n ('PARENTING', 58, 0.0065),\n ('ART_AND_DESIGN', 57, 0.0064),\n ('COMICS', 55, 0.0062),\n ('BEAUTY', 53, 0.006)]\n\nApple Genres By Count\n[('Games', 1874, 0.5816),\n ('Entertainment', 254, 0.0788),\n ('Photo & Video', 160, 0.0497),\n ('Education', 118, 0.0366),\n ('Social Networking', 106, 0.0329),\n ('Shopping', 84, 0.0261),\n ('Utilities', 81, 0.0251),\n ('Sports', 69, 0.0214),\n ('Music', 66, 0.0205),\n ('Health & Fitness', 65, 0.0202),\n ('Productivity', 56, 0.0174),\n ('Lifestyle', 51, 0.0158),\n ('News', 43, 0.0133),\n ('Travel', 40, 0.0124),\n ('Finance', 36, 0.0112),\n ('Weather', 28, 0.0087),\n ('Food & Drink', 26, 0.0081),\n ('Reference', 18, 0.0056),\n ('Business', 17, 0.0053),\n ('Book', 14, 0.0043),\n ('Navigation', 6, 0.0019),\n ('Medical', 6, 0.0019),\n ('Catalogs', 4, 0.0012)]\n"
     ]
    }
   ],
   "source": [
    "\n",
    "ordered_google = sorted(google_free_genre_frq.items(), key = lambda kv:(kv[1], kv[0]), reverse=True)\n",
    "ordered_apple = sorted(apple_free_genre_frg.items(), key = lambda kv:(kv[1], kv[0]), reverse=True)\n",
    "\n",
    "# Count and percentage\n",
    "google_count = tuple_count(ordered_google,1)\n",
    "ordered_google = [(x[0],x[1],round(x[1]/google_count,4)) for x in ordered_google]\n",
    "apple_count = tuple_count(ordered_apple,1)\n",
    "orderd_apple = [(x[0],x[1],round(x[1]/apple_count,4)) for x in ordered_apple]\n",
    "\n",
    "print(\"Google Genres By Count\")\n",
    "pprint.pprint(ordered_google)\n",
    "print(\"\\nApple Genres By Count\")\n",
    "pprint.pprint(orderd_apple)"
   ]
  },
  {
   "source": [
    "In the Google apps sorted by genre count data the top three genres are Family (18.9%), Games (9.7%), and Tools (8.4%). Family (18.9%) type games is almost two times larger than the the second place spot (9.7%).\n",
    "\n",
    "The Apple apps sorted by genre count data is very different. The largest category is Games with a very large 58.2%. Entertainment (7.9%) and Photo & Video (4.9%) type apps come in a distant second and third.\n",
    "\n",
    "From the observations above, an app developed for Family and that has a game aspect would be right in the current market of apps on the Google apps store. While an app that is more centered around game play and entertainment would be more at home on the Apple store."
   ],
   "cell_type": "markdown",
   "metadata": {}
  },
  {
   "source": [
    "## Most Users in Genres In Free Apps From Google and Apple Stores in English\n",
    "\n",
    "Now we will go onto look at the total number of people that are using each type of app. One way to find out what genres are the most popular (have the most users) is to calculate the average number of installs for each app genre. For the Google Play data set, we can find this information in the <code>Installs</code>. column, but this information is missing for the App Store data set. As a workaround, we'll take the total number of user ratings as a proxy, which we can find in the <code>rating_count_tot</code> app."
   ],
   "cell_type": "markdown",
   "metadata": {}
  },
  {
   "cell_type": "code",
   "execution_count": 24,
   "metadata": {},
   "outputs": [
    {
     "output_type": "stream",
     "name": "stdout",
     "text": [
      "Google Genre by Downloads\n[('GAME', 13436869450, 0.1786),\n ('COMMUNICATION', 11036906201, 0.1467),\n ('TOOLS', 8101043474, 0.1077),\n ('FAMILY', 6193895690, 0.0823),\n ('PRODUCTIVITY', 5791629314, 0.077),\n ('SOCIAL', 5487861902, 0.0729),\n ('PHOTOGRAPHY', 4656268815, 0.0619),\n ('VIDEO_PLAYERS', 3931731720, 0.0522),\n ('TRAVEL_AND_LOCAL', 2894704086, 0.0385),\n ('NEWS_AND_MAGAZINES', 2368196260, 0.0315),\n ('BOOKS_AND_REFERENCE', 1665884260, 0.0221),\n ('PERSONALIZATION', 1529235888, 0.0203),\n ('SHOPPING', 1400338585, 0.0186),\n ('HEALTH_AND_FITNESS', 1143548402, 0.0152),\n ('SPORTS', 1095230683, 0.0146),\n ('ENTERTAINMENT', 989460000, 0.0131),\n ('BUSINESS', 696902090, 0.0093),\n ('MAPS_AND_NAVIGATION', 503060780, 0.0067),\n ('LIFESTYLE', 497484429, 0.0066),\n ('FINANCE', 455163132, 0.006),\n ('WEATHER', 360288520, 0.0048),\n ('FOOD_AND_DRINK', 211738751, 0.0028),\n ('EDUCATION', 188850000, 0.0025),\n ('DATING', 140914757, 0.0019),\n ('ART_AND_DESIGN', 113221100, 0.0015),\n ('HOUSE_AND_HOME', 97202461, 0.0013),\n ('AUTO_AND_VEHICLES', 53080061, 0.0007),\n ('LIBRARIES_AND_DEMO', 52995810, 0.0007),\n ('COMICS', 44971150, 0.0006),\n ('MEDICAL', 37732344, 0.0005),\n ('PARENTING', 31471010, 0.0004),\n ('BEAUTY', 27197050, 0.0004),\n ('EVENTS', 15973160, 0.0002)]\n\nApple Genre by Rating Count\n[('Games', 42705967, 0.5339),\n ('Social Networking', 7584125, 0.0948),\n ('Photo & Video', 4550647, 0.0569),\n ('Music', 3783551, 0.0473),\n ('Entertainment', 3563577, 0.0446),\n ('Shopping', 2261254, 0.0283),\n ('Sports', 1587614, 0.0198),\n ('Health & Fitness', 1514371, 0.0189),\n ('Utilities', 1513441, 0.0189),\n ('Weather', 1463837, 0.0183),\n ('Reference', 1348958, 0.0169),\n ('Productivity', 1177591, 0.0147),\n ('Finance', 1132846, 0.0142),\n ('Travel', 1129752, 0.0141),\n ('News', 913665, 0.0114),\n ('Food & Drink', 866682, 0.0108),\n ('Lifestyle', 840774, 0.0105),\n ('Education', 826470, 0.0103),\n ('Book', 556619, 0.007),\n ('Navigation', 516542, 0.0065),\n ('Business', 127349, 0.0016),\n ('Catalogs', 16016, 0.0002),\n ('Medical', 3672, 0.0)]\n"
     ]
    }
   ],
   "source": [
    "def count_users_genre(list_of_list,genre_index,count_index):\n",
    "    dict_values = {}\n",
    "\n",
    "    # Count Numbers Per App\n",
    "    for row in list_of_list:\n",
    "        genre = row[genre_index]\n",
    "        count = int(row[count_index].replace('+','').replace(',',''))\n",
    "        if genre in dict_values:\n",
    "            dict_values[genre] += count\n",
    "        else:\n",
    "            dict_values[genre] = count\n",
    "\n",
    "    # Sort and Order\n",
    "    dict_values = sorted(dict_values.items(), key = lambda kv:(kv[1], kv[0]), reverse=True)\n",
    "    return dict_values\n",
    "\n",
    "# Google Count and Freq\n",
    "google_free_genre_users_frq = count_users_genre(google_free, 1, 5)\n",
    "google_count = tuple_count(google_free_genre_users_frq,1)\n",
    "google_free_genre_users_frq = [(x[0],x[1],round(x[1]/google_count,4)) for x in google_free_genre_users_frq]\n",
    "\n",
    "# Apple Count and Freq\n",
    "apple_free_genre_users_frq = count_users_genre(apple_free, 11, 5)\n",
    "apple_count = tuple_count(apple_free_genre_users_frq,1)\n",
    "apple_free_genre_users_frq = [(x[0],x[1],round(x[1]/apple_count,4)) for x in apple_free_genre_users_frq]\n",
    "\n",
    "print(\"Google Genre by Downloads\")\n",
    "pprint.pprint(google_free_genre_users_frq)\n",
    "\n",
    "print(\"\\nApple Genre by Rating Count\")\n",
    "pprint.pprint(apple_free_genre_users_frq)"
   ]
  },
  {
   "source": [
    "From the google apps store, a total of 75 billion apps have been downloaded. From those downloads, the top three genres downloaded were Game (17.9%), Communication (14.7%) and Tools (10.8%). The suprise genre here is Communication, with downloads being larger than the number of apps in that catigory. Showing that Communication apps get downloaded more relative to the amount of apps on the store.\n",
    "\n",
    "From the apple store, a total of 78 million apps were rated. With Games (53.4%), Social Networking (9.5%), and Photo & Video (5.7%). Soical Networking is a new catigory in the top three.\n",
    "\n",
    "The overall trend stated in the genre count follows for the number of users except that google also has a lot of people that download apps for there usefulness, like Communication and Tools."
   ],
   "cell_type": "markdown",
   "metadata": {}
  }
 ],
 "metadata": {
  "kernelspec": {
   "display_name": "Python 3",
   "language": "python",
   "name": "python3"
  },
  "language_info": {
   "codemirror_mode": {
    "name": "ipython",
    "version": 3
   },
   "file_extension": ".py",
   "mimetype": "text/x-python",
   "name": "python",
   "nbconvert_exporter": "python",
   "pygments_lexer": "ipython3",
   "version": "3.7.8-final"
  }
 },
 "nbformat": 4,
 "nbformat_minor": 4
}