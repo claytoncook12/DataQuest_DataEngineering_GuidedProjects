{
 "cells": [
  {
   "cell_type": "markdown",
   "metadata": {},
   "source": [
    "# Guided Project: Building a Database for Crime Reports\n",
    "\n",
    "In this guided project, we will put everything together to build a database for storing data related with crimes that occurred in Boston. This dataset is available in the file <code>boston.csv</code>.\n",
    "\n",
    "The goal of this guided project is for you to create a database named <code>crimes_db</code> with a table – <code>boston_crimes</code> – with appropriate datatypes for storing the data from the <code>boston.csv</code> file. You will be creating the table inside a schema named <code>crimes</code>. You will also create the <code>readonly</code> and <code>readwrite</code> groups with the appropriate privileges as we have discussed in this course. Finally, you will also need to create one user for each of these groups.\n",
    "\n",
    "The following diagram illustrates a high level overview of what we want to achieve:\n",
    "\n",
    "<img src=\"Guided Project - Building a database for crime reports img 1.png\" width=600px>"
   ]
  },
  {
   "cell_type": "code",
   "execution_count": 1,
   "metadata": {},
   "outputs": [],
   "source": [
    "import csv\n",
    "import pandas as pd\n",
    "import psycopg2"
   ]
  },
  {
   "cell_type": "code",
   "execution_count": 2,
   "metadata": {},
   "outputs": [
    {
     "name": "stdout",
     "output_type": "stream",
     "text": [
      "['incident_number', 'offense_code', 'description', 'date', 'day_of_the_week', 'lat', 'long']\n",
      "['1', '619', 'LARCENY ALL OTHERS', '2018-09-02', 'Sunday', '42.35779134', '-71.13937053']\n",
      "['2', '1402', 'VANDALISM', '2018-08-21', 'Tuesday', '42.30682138', '-71.06030035']\n",
      "['3', '3410', 'TOWED MOTOR VEHICLE', '2018-09-03', 'Monday', '42.34658879', '-71.07242943']\n",
      "['4', '3114', 'INVESTIGATE PROPERTY', '2018-09-03', 'Monday', '42.33418175', '-71.07866441']\n"
     ]
    }
   ],
   "source": [
    "# first few lines in the boston.csv file\n",
    "with open(\"boston.csv\", \"r\") as f:\n",
    "    reader = csv.reader(f)\n",
    "    data = list(reader)\n",
    "    for row in data[:5]:\n",
    "        print(row)"
   ]
  },
  {
   "cell_type": "markdown",
   "metadata": {},
   "source": [
    "Create the database that will house the information in Postgres database. Need to set the <code>connection.autocommit</code> to <code>True</code> to create the intial database."
   ]
  },
  {
   "cell_type": "code",
   "execution_count": 3,
   "metadata": {},
   "outputs": [],
   "source": [
    "sql_text = \"\"\"\n",
    "           CREATE DATABASE crime_db; \n",
    "           \"\"\"\n",
    "conn = psycopg2.connect(dbname=\"postgres\", user=\"postgres\", password=\"abc123\")\n",
    "conn.autocommit = True\n",
    "cur = conn.cursor()\n",
    "cur.execute(sql_text)\n",
    "conn.close()"
   ]
  },
  {
   "cell_type": "markdown",
   "metadata": {},
   "source": [
    "Create <code>sql_execute</code> to connect to the new <code>crime_db</code> database on my computer and run the SQL commands."
   ]
  },
  {
   "cell_type": "code",
   "execution_count": 4,
   "metadata": {},
   "outputs": [],
   "source": [
    "def sql_execute(sql_text, autocommit=False, return_results=False):\n",
    "    conn = psycopg2.connect(dbname=\"crime_db\", user=\"postgres\", password=\"abc123\")\n",
    "    conn.autocommit = autocommit\n",
    "    cur = conn.cursor()\n",
    "\n",
    "    cur.execute(sql_text)\n",
    "    \n",
    "    if return_results == True:\n",
    "        data = cur.fetchall()\n",
    "\n",
    "    conn.commit()\n",
    "    conn.close()\n",
    "    \n",
    "    if return_results == True:\n",
    "        return data"
   ]
  },
  {
   "cell_type": "markdown",
   "metadata": {},
   "source": [
    "Create the schema holder."
   ]
  },
  {
   "cell_type": "code",
   "execution_count": 5,
   "metadata": {},
   "outputs": [],
   "source": [
    "sql_text = \"\"\"\n",
    "           CREATE SCHEMA crimes; \n",
    "           \"\"\"\n",
    "sql_execute(sql_text)"
   ]
  },
  {
   "cell_type": "markdown",
   "metadata": {},
   "source": [
    "Now we have a database and a schema, lets look at data we import from the <code>boston.csv</code> above. We will read the data into a pandas dataframe and look at the unique values in each column. This was we can decide was the appropriate data types each column in our database needs to be."
   ]
  },
  {
   "cell_type": "code",
   "execution_count": 6,
   "metadata": {},
   "outputs": [
    {
     "data": {
      "text/html": [
       "<div>\n",
       "<style scoped>\n",
       "    .dataframe tbody tr th:only-of-type {\n",
       "        vertical-align: middle;\n",
       "    }\n",
       "\n",
       "    .dataframe tbody tr th {\n",
       "        vertical-align: top;\n",
       "    }\n",
       "\n",
       "    .dataframe thead th {\n",
       "        text-align: right;\n",
       "    }\n",
       "</style>\n",
       "<table border=\"1\" class=\"dataframe\">\n",
       "  <thead>\n",
       "    <tr style=\"text-align: right;\">\n",
       "      <th></th>\n",
       "      <th>offense_code</th>\n",
       "      <th>description</th>\n",
       "      <th>date</th>\n",
       "      <th>day_of_the_week</th>\n",
       "      <th>lat</th>\n",
       "      <th>long</th>\n",
       "    </tr>\n",
       "    <tr>\n",
       "      <th>incident_number</th>\n",
       "      <th></th>\n",
       "      <th></th>\n",
       "      <th></th>\n",
       "      <th></th>\n",
       "      <th></th>\n",
       "      <th></th>\n",
       "    </tr>\n",
       "  </thead>\n",
       "  <tbody>\n",
       "    <tr>\n",
       "      <th>1</th>\n",
       "      <td>619</td>\n",
       "      <td>LARCENY ALL OTHERS</td>\n",
       "      <td>2018-09-02</td>\n",
       "      <td>Sunday</td>\n",
       "      <td>42.35779134</td>\n",
       "      <td>-71.13937053</td>\n",
       "    </tr>\n",
       "    <tr>\n",
       "      <th>2</th>\n",
       "      <td>1402</td>\n",
       "      <td>VANDALISM</td>\n",
       "      <td>2018-08-21</td>\n",
       "      <td>Tuesday</td>\n",
       "      <td>42.30682138</td>\n",
       "      <td>-71.06030035</td>\n",
       "    </tr>\n",
       "    <tr>\n",
       "      <th>3</th>\n",
       "      <td>3410</td>\n",
       "      <td>TOWED MOTOR VEHICLE</td>\n",
       "      <td>2018-09-03</td>\n",
       "      <td>Monday</td>\n",
       "      <td>42.34658879</td>\n",
       "      <td>-71.07242943</td>\n",
       "    </tr>\n",
       "    <tr>\n",
       "      <th>4</th>\n",
       "      <td>3114</td>\n",
       "      <td>INVESTIGATE PROPERTY</td>\n",
       "      <td>2018-09-03</td>\n",
       "      <td>Monday</td>\n",
       "      <td>42.33418175</td>\n",
       "      <td>-71.07866441</td>\n",
       "    </tr>\n",
       "    <tr>\n",
       "      <th>5</th>\n",
       "      <td>3114</td>\n",
       "      <td>INVESTIGATE PROPERTY</td>\n",
       "      <td>2018-09-03</td>\n",
       "      <td>Monday</td>\n",
       "      <td>42.27536542</td>\n",
       "      <td>-71.09036101</td>\n",
       "    </tr>\n",
       "    <tr>\n",
       "      <th>...</th>\n",
       "      <td>...</td>\n",
       "      <td>...</td>\n",
       "      <td>...</td>\n",
       "      <td>...</td>\n",
       "      <td>...</td>\n",
       "      <td>...</td>\n",
       "    </tr>\n",
       "    <tr>\n",
       "      <th>298325</th>\n",
       "      <td>3125</td>\n",
       "      <td>WARRANT ARREST</td>\n",
       "      <td>2016-06-05</td>\n",
       "      <td>Sunday</td>\n",
       "      <td>42.33695098</td>\n",
       "      <td>-71.08574813</td>\n",
       "    </tr>\n",
       "    <tr>\n",
       "      <th>298326</th>\n",
       "      <td>111</td>\n",
       "      <td>MURDER, NON-NEGLIGIENT MANSLAUGHTER</td>\n",
       "      <td>2015-07-09</td>\n",
       "      <td>Thursday</td>\n",
       "      <td>42.25592648</td>\n",
       "      <td>-71.12317207</td>\n",
       "    </tr>\n",
       "    <tr>\n",
       "      <th>298327</th>\n",
       "      <td>3125</td>\n",
       "      <td>WARRANT ARREST</td>\n",
       "      <td>2015-07-09</td>\n",
       "      <td>Thursday</td>\n",
       "      <td>42.25592648</td>\n",
       "      <td>-71.12317207</td>\n",
       "    </tr>\n",
       "    <tr>\n",
       "      <th>298328</th>\n",
       "      <td>3125</td>\n",
       "      <td>WARRANT ARREST</td>\n",
       "      <td>2016-05-31</td>\n",
       "      <td>Tuesday</td>\n",
       "      <td>42.30233307</td>\n",
       "      <td>-71.11156487</td>\n",
       "    </tr>\n",
       "    <tr>\n",
       "      <th>298329</th>\n",
       "      <td>3125</td>\n",
       "      <td>WARRANT ARREST</td>\n",
       "      <td>2015-06-22</td>\n",
       "      <td>Monday</td>\n",
       "      <td>42.33383935</td>\n",
       "      <td>-71.08029038</td>\n",
       "    </tr>\n",
       "  </tbody>\n",
       "</table>\n",
       "<p>298329 rows × 6 columns</p>\n",
       "</div>"
      ],
      "text/plain": [
       "                offense_code                          description        date  \\\n",
       "incident_number                                                                 \n",
       "1                        619                   LARCENY ALL OTHERS  2018-09-02   \n",
       "2                       1402                            VANDALISM  2018-08-21   \n",
       "3                       3410                  TOWED MOTOR VEHICLE  2018-09-03   \n",
       "4                       3114                 INVESTIGATE PROPERTY  2018-09-03   \n",
       "5                       3114                 INVESTIGATE PROPERTY  2018-09-03   \n",
       "...                      ...                                  ...         ...   \n",
       "298325                  3125                       WARRANT ARREST  2016-06-05   \n",
       "298326                   111  MURDER, NON-NEGLIGIENT MANSLAUGHTER  2015-07-09   \n",
       "298327                  3125                       WARRANT ARREST  2015-07-09   \n",
       "298328                  3125                       WARRANT ARREST  2016-05-31   \n",
       "298329                  3125                       WARRANT ARREST  2015-06-22   \n",
       "\n",
       "                day_of_the_week          lat          long  \n",
       "incident_number                                             \n",
       "1                        Sunday  42.35779134  -71.13937053  \n",
       "2                       Tuesday  42.30682138  -71.06030035  \n",
       "3                        Monday  42.34658879  -71.07242943  \n",
       "4                        Monday  42.33418175  -71.07866441  \n",
       "5                        Monday  42.27536542  -71.09036101  \n",
       "...                         ...          ...           ...  \n",
       "298325                   Sunday  42.33695098  -71.08574813  \n",
       "298326                 Thursday  42.25592648  -71.12317207  \n",
       "298327                 Thursday  42.25592648  -71.12317207  \n",
       "298328                  Tuesday  42.30233307  -71.11156487  \n",
       "298329                   Monday  42.33383935  -71.08029038  \n",
       "\n",
       "[298329 rows x 6 columns]"
      ]
     },
     "execution_count": 6,
     "metadata": {},
     "output_type": "execute_result"
    }
   ],
   "source": [
    "df = pd.DataFrame(data[1:], columns=data[0])\n",
    "df.set_index(\"incident_number\", inplace=True)\n",
    "df"
   ]
  },
  {
   "cell_type": "code",
   "execution_count": 7,
   "metadata": {},
   "outputs": [
    {
     "name": "stdout",
     "output_type": "stream",
     "text": [
      "<class 'pandas.core.frame.DataFrame'>\n",
      "Index: 298329 entries, 1 to 298329\n",
      "Data columns (total 6 columns):\n",
      " #   Column           Non-Null Count   Dtype \n",
      "---  ------           --------------   ----- \n",
      " 0   offense_code     298329 non-null  object\n",
      " 1   description      298329 non-null  object\n",
      " 2   date             298329 non-null  object\n",
      " 3   day_of_the_week  298329 non-null  object\n",
      " 4   lat              298329 non-null  object\n",
      " 5   long             298329 non-null  object\n",
      "dtypes: object(6)\n",
      "memory usage: 15.9+ MB\n"
     ]
    }
   ],
   "source": [
    "df.info()"
   ]
  },
  {
   "cell_type": "markdown",
   "metadata": {},
   "source": [
    "Now we will look at the number of unique values in each column and decide what the proper datatypes should be for each column."
   ]
  },
  {
   "cell_type": "code",
   "execution_count": 8,
   "metadata": {},
   "outputs": [
    {
     "name": "stdout",
     "output_type": "stream",
     "text": [
      "Unique Values For Each Column\n",
      "\n",
      "column............unique values\n",
      "offense_code................219\n",
      "description.................239\n",
      "date.......................1177\n",
      "day_of_the_week...............7\n",
      "lat.......................18177\n",
      "long......................18177\n"
     ]
    }
   ],
   "source": [
    "unique = {}\n",
    "\n",
    "for col in df.columns:\n",
    "    unique[col] = df[col].unique()\n",
    "\n",
    "print(\"Unique Values For Each Column\\n\")\n",
    "print(\"{:.<16}{:.>15}\".format(\"column\",\"unique values\"))\n",
    "for val in unique:\n",
    "    print(\"{:.<16}{:.>15}\".format(val,len(unique[val])))"
   ]
  },
  {
   "cell_type": "code",
   "execution_count": 9,
   "metadata": {},
   "outputs": [
    {
     "name": "stdout",
     "output_type": "stream",
     "text": [
      "Longest Number of Characters in Each Column\n",
      "column..................max_len\n",
      "offense_code..................4\n",
      "1402\n",
      "\n",
      "description..................58\n",
      "RECOVERED - MV RECOVERED IN BOSTON (STOLEN OUTSIDE BOSTON)\n",
      "\n",
      "date.........................10\n",
      "2018-09-02\n",
      "\n",
      "day_of_the_week...............9\n",
      "Wednesday\n",
      "\n",
      "lat..........................11\n",
      "42.35779134\n",
      "\n",
      "long.........................12\n",
      "-71.13937053\n",
      "\n"
     ]
    }
   ],
   "source": [
    "print(\"Longest Number of Characters in Each Column\")\n",
    "print(\"{:.<16}{:.>15}\".format(\"column\",\"max_len\"))\n",
    "for val in unique:\n",
    "    max_len = max([len(x) for x in unique[val]])\n",
    "    print(\"{:.<16}{:.>15}\".format(val,max_len))\n",
    "    for row in unique[val]:\n",
    "        if len(row) == max_len:\n",
    "            print(\"{}\\n\".format(row))\n",
    "            break"
   ]
  },
  {
   "cell_type": "markdown",
   "metadata": {},
   "source": [
    "Now that we have some information about the data in each column we can select the specific data types that will be used for each column. So the offense_code is a 4 character number. description is a text block with up to 58 characters. The data column has date values in the year-month-day formate. day_of_the_week is the full word of the day. Both lat and long or 8 digit float values with long being negative.\n",
    "\n",
    "|column|datatype|\n",
    "|:---|:---:|\n",
    "|incident_number|integer PRIMARY KEY|\n",
    "|offense_code|smallint|\n",
    "|description|varchar(100)|\n",
    "|date|date|\n",
    "|day_of_the_week|enumerated|\n",
    "|lat|numeric(11,8)|\n",
    "|long|numeric(11,8)|"
   ]
  },
  {
   "cell_type": "code",
   "execution_count": 10,
   "metadata": {},
   "outputs": [],
   "source": [
    "# Create enumerated datatype\n",
    "sql_text = \"\"\"\n",
    "           CREATE TYPE day_enum AS ENUM ('Sunday', 'Monday', 'Tuesday', 'Wednesday',\n",
    "           'Thursday', 'Friday', 'Saturday'); \n",
    "           \"\"\"\n",
    "sql_execute(sql_text)"
   ]
  },
  {
   "cell_type": "code",
   "execution_count": 11,
   "metadata": {},
   "outputs": [],
   "source": [
    "# Create table\n",
    "sql_text = \"\"\"\n",
    "           CREATE TABLE crimes.crime_reports (\n",
    "           incident_number integer PRIMARY KEY,\n",
    "           offense_code SMALLINT NOT NULL,\n",
    "           description VARCHAR(100) NOT NULL,\n",
    "           date DATE NOT NULL,\n",
    "           day_of_the_week day_enum NOT NULL,\n",
    "           lat NUMERIC(11, 8),\n",
    "           long numeric(11, 8)\n",
    "           ); \n",
    "           \"\"\"\n",
    "sql_execute(sql_text)"
   ]
  },
  {
   "cell_type": "markdown",
   "metadata": {},
   "source": [
    "Now that we have create the table will will insert into the table values from <code>boston.csv</code>. Will be using the <code>cursor.copy_expert</code> within the <code>psycopg2</code> pacakge. "
   ]
  },
  {
   "cell_type": "code",
   "execution_count": 12,
   "metadata": {},
   "outputs": [],
   "source": [
    "# Inserting in data to crime_reports\n",
    "conn = psycopg2.connect(dbname=\"crime_db\", user=\"postgres\", password=\"abc123\")\n",
    "cur = conn.cursor()\n",
    "\n",
    "with open(\"boston.csv\", \"r\") as f:\n",
    "    cur.copy_expert(\"COPY crimes.crime_reports FROM STDIN WITH CSV HEADER\", f)\n",
    "\n",
    "conn.commit()\n",
    "conn.close()"
   ]
  },
  {
   "cell_type": "markdown",
   "metadata": {},
   "source": [
    "Now we have the data inserted we can start handing users. Our goal is to create the two user groups that we have learned about: <code>readonly</code> and <code>readwrite</code>. By following the least privilege principle, the first step in doing so is to make sure that there are no privileges inherited from the <code>public</code> group and on the <code>public</code> schema."
   ]
  },
  {
   "cell_type": "code",
   "execution_count": 13,
   "metadata": {},
   "outputs": [],
   "source": [
    "sql_text = \"\"\"\n",
    "           REVOKE ALL ON SCHEMA public FROM public;\n",
    "           REVOKE ALL ON DATABASE crime_db FROM public;\n",
    "           \"\"\"\n",
    "sql_execute(sql_text)"
   ]
  },
  {
   "cell_type": "markdown",
   "metadata": {},
   "source": [
    "We have made sure that we are not going to inadvertently inherit privileges from the <code>public</code> group. The next step is to create our two users groups. That the <code>readonly</code> group is supposed to only privileges to perform <code>SELECT</code> queries. In contrast, we want the <code>readwrite</code> group to be able to perform <code>SELECT, INSERT, DELETE</code> and <code>UPDATE</code> queries. To grant <code>INSERT</code> and <code>SELECT</code> privileges in all tables inside a schema we can use the command"
   ]
  },
  {
   "cell_type": "code",
   "execution_count": 14,
   "metadata": {},
   "outputs": [],
   "source": [
    "# Create and set access for readonly group\n",
    "# Set and set access for readwrite\n",
    "sql_text = \"\"\"\n",
    "           CREATE GROUP readonly NOLOGIN;\n",
    "           GRANT SELECT ON ALL TABLES IN SCHEMA crimes to readonly;\n",
    "           CREATE GROUP readwrite NOLOGIN;\n",
    "           GRANT SELECT, INSERT, DELETE, UPDATE ON ALL TABLES IN SCHEMA crimes to readwrite;\n",
    "           \"\"\"\n",
    "sql_execute(sql_text)"
   ]
  },
  {
   "cell_type": "markdown",
   "metadata": {},
   "source": [
    "Now that we have the groups setup for the database we can create a <code>data_analyist</code> user and set their groups as <code>readonly</code> and a <code>data_scientist</code> user and set their groups as <code>readwrite</code>."
   ]
  },
  {
   "cell_type": "code",
   "execution_count": 15,
   "metadata": {},
   "outputs": [],
   "source": [
    "sql_text = \"\"\"\n",
    "           CREATE USER data_analyist WITH PASSWORD 'secret1';\n",
    "           GRANT readonly TO data_analyist;\n",
    "           CREATE USER data_scientist WITH PASSWORD 'secret2';\n",
    "           GRANT readwrite TO data_scientist;\n",
    "           \"\"\"\n",
    "sql_execute(sql_text)"
   ]
  },
  {
   "cell_type": "markdown",
   "metadata": {},
   "source": [
    "Now we can check privileges for users."
   ]
  },
  {
   "cell_type": "code",
   "execution_count": 16,
   "metadata": {},
   "outputs": [
    {
     "data": {
      "text/plain": [
       "[('readwrite', 'INSERT'),\n",
       " ('readwrite', 'SELECT'),\n",
       " ('readwrite', 'UPDATE'),\n",
       " ('readwrite', 'DELETE')]"
      ]
     },
     "execution_count": 16,
     "metadata": {},
     "output_type": "execute_result"
    }
   ],
   "source": [
    "sql_text = \"\"\"\n",
    "           SELECT grantee, privilege_type\n",
    "           FROM information_schema.table_privileges\n",
    "           WHERE grantee = 'readwrite';\n",
    "           \"\"\"\n",
    "sql_execute(sql_text, return_results=True)"
   ]
  },
  {
   "cell_type": "code",
   "execution_count": 17,
   "metadata": {},
   "outputs": [
    {
     "data": {
      "text/plain": [
       "[('readonly', 'SELECT')]"
      ]
     },
     "execution_count": 17,
     "metadata": {},
     "output_type": "execute_result"
    }
   ],
   "source": [
    "sql_text = \"\"\"\n",
    "           SELECT grantee, privilege_type\n",
    "           FROM information_schema.table_privileges\n",
    "           WHERE grantee = 'readonly';\n",
    "           \"\"\"\n",
    "sql_execute(sql_text, return_results=True)"
   ]
  }
 ],
 "metadata": {
  "kernelspec": {
   "display_name": "Python 3",
   "language": "python",
   "name": "python3"
  },
  "language_info": {
   "codemirror_mode": {
    "name": "ipython",
    "version": 3
   },
   "file_extension": ".py",
   "mimetype": "text/x-python",
   "name": "python",
   "nbconvert_exporter": "python",
   "pygments_lexer": "ipython3",
   "version": "3.7.7"
  }
 },
 "nbformat": 4,
 "nbformat_minor": 4
}
