{
 "cells": [
  {
   "cell_type": "markdown",
   "metadata": {},
   "source": [
    "# Guided Project - Exploring Hacker News Posts\n",
    "\n",
    "This is a guided project from the Dataquest. The mission involves doing exploration of subset of data from data found [here](https://www.kaggle.com/hacker-news/hacker-news-posts). The data set is composed of posts from Hacker News."
   ]
  },
  {
   "cell_type": "code",
   "execution_count": 1,
   "metadata": {},
   "outputs": [],
   "source": [
    "from csv import reader\n",
    "import datetime as dt\n",
    "import operator"
   ]
  },
  {
   "cell_type": "code",
   "execution_count": 2,
   "metadata": {},
   "outputs": [],
   "source": [
    "# Importing Data Set\n",
    "file = open(\"hacker_news.csv\")\n",
    "hn = list(reader(file))"
   ]
  },
  {
   "cell_type": "code",
   "execution_count": 3,
   "metadata": {},
   "outputs": [
    {
     "name": "stdout",
     "output_type": "stream",
     "text": [
      "['id', 'title', 'url', 'num_points', 'num_comments', 'author', 'created_at']\n",
      "['12224879', 'Interactive Dynamic Video', 'http://www.interactivedynamicvideo.com/', '386', '52', 'ne0phyte', '8/4/2016 11:52']\n",
      "['10975351', 'How to Use Open Source and Shut the Fuck Up at the Same Time', 'http://hueniverse.com/2016/01/26/how-to-use-open-source-and-shut-the-fuck-up-at-the-same-time/', '39', '10', 'josep2', '1/26/2016 19:30']\n",
      "['11964716', \"Florida DJs May Face Felony for April Fools' Water Joke\", 'http://www.thewire.com/entertainment/2013/04/florida-djs-april-fools-water-joke/63798/', '2', '1', 'vezycash', '6/23/2016 22:20']\n",
      "['11919867', 'Technology ventures: From Idea to Enterprise', 'https://www.amazon.com/Technology-Ventures-Enterprise-Thomas-Byers/dp/0073523429', '3', '1', 'hswarna', '6/17/2016 0:01']\n",
      "['10301696', 'Note by Note: The Making of Steinway L1037 (2007)', 'http://www.nytimes.com/2007/11/07/movies/07stein.html?_r=0', '8', '2', 'walterbell', '9/30/2015 4:12']\n"
     ]
    }
   ],
   "source": [
    "# Display first five rows in data\n",
    "for row in hn[:6]:\n",
    "    print(row)\n",
    "    \n",
    "# Extract Header Data\n",
    "header = hn[0]\n",
    "\n",
    "# Remove header from hn data\n",
    "hn = hn[1:]"
   ]
  },
  {
   "cell_type": "code",
   "execution_count": 4,
   "metadata": {},
   "outputs": [
    {
     "name": "stdout",
     "output_type": "stream",
     "text": [
      "Ask posts:   1744\n",
      "Show posts:  1162\n",
      "Other posts: 17194\n",
      "Total posts: 20100\n"
     ]
    }
   ],
   "source": [
    "# Sort Posts By Title\n",
    "ask_posts, show_posts, other_posts = [], [], []\n",
    "\n",
    "for row in hn:\n",
    "    \n",
    "    title = row[1]\n",
    "    title = title.lower()\n",
    "    \n",
    "    if title.startswith('ask hn'):\n",
    "        ask_posts.append(row)\n",
    "    elif title.startswith('show hn'):\n",
    "        show_posts.append(row)\n",
    "    else:\n",
    "        other_posts.append(row)\n",
    "\n",
    "len_ask_posts, len_show_posts, len_other_posts = len(ask_posts), len(show_posts), len(other_posts)\n",
    "total_posts = len_ask_posts + len_show_posts + len_other_posts\n",
    "        \n",
    "print(\"Ask posts:   {}\\nShow posts:  {}\\nOther posts: {}\".format(len(ask_posts), len(show_posts), len(other_posts)))\n",
    "print(\"Total posts: {}\".format(total_posts))"
   ]
  },
  {
   "cell_type": "markdown",
   "metadata": {},
   "source": [
    "## Determine if ask posts or show posts recieve more comments on average"
   ]
  },
  {
   "cell_type": "code",
   "execution_count": 5,
   "metadata": {},
   "outputs": [
    {
     "data": {
      "text/plain": [
       "[['12296411',\n",
       "  'Ask HN: How to improve my personal website?',\n",
       "  '',\n",
       "  '2',\n",
       "  '6',\n",
       "  'ahmedbaracat',\n",
       "  '8/16/2016 9:55'],\n",
       " ['10610020',\n",
       "  'Ask HN: Am I the only one outraged by Twitter shutting down share counts?',\n",
       "  '',\n",
       "  '28',\n",
       "  '29',\n",
       "  'tkfx',\n",
       "  '11/22/2015 13:43']]"
      ]
     },
     "execution_count": 5,
     "metadata": {},
     "output_type": "execute_result"
    }
   ],
   "source": [
    "ask_posts[:2]"
   ]
  },
  {
   "cell_type": "code",
   "execution_count": 6,
   "metadata": {},
   "outputs": [
    {
     "name": "stdout",
     "output_type": "stream",
     "text": [
      "Average Ask Post Comments:  14.0\n",
      "Average Show Post Comments: 10.3\n"
     ]
    }
   ],
   "source": [
    "total_ask_comments, total_show_comments = 0, 0\n",
    "\n",
    "for row in ask_posts:\n",
    "    total_ask_comments += int(row[4])\n",
    "    \n",
    "for row in show_posts:\n",
    "    total_show_comments += int(row[4])\n",
    "    \n",
    "avg_ask_comments, avg_show_comments = (total_ask_comments / len_ask_posts), (total_show_comments / len_show_posts)\n",
    "print(\"Average Ask Post Comments:  {:.1f}\\nAverage Show Post Comments: {:.1f}\".format(avg_ask_comments, avg_show_comments))"
   ]
  },
  {
   "cell_type": "markdown",
   "metadata": {},
   "source": [
    "## Determine if ask posts created at a certain time are more likely to attract comments."
   ]
  },
  {
   "cell_type": "code",
   "execution_count": 7,
   "metadata": {},
   "outputs": [
    {
     "data": {
      "text/plain": [
       "[['8/16/2016 9:55', 6], ['11/22/2015 13:43', 29], ['5/2/2016 10:14', 1]]"
      ]
     },
     "execution_count": 7,
     "metadata": {},
     "output_type": "execute_result"
    }
   ],
   "source": [
    "result_list = []\n",
    "\n",
    "for row in ask_posts:\n",
    "    result_list.append([row[6],int(row[4])])\n",
    "\n",
    "result_list[:3]"
   ]
  },
  {
   "cell_type": "code",
   "execution_count": 8,
   "metadata": {},
   "outputs": [],
   "source": [
    "counts_by_hour, comments_by_hour = {}, {}\n",
    "\n",
    "for row in result_list:\n",
    "    date_time = dt.datetime.strptime(row[0],\"%m/%d/%Y %H:%M\")\n",
    "    hour = date_time.strftime(\"%H\")\n",
    "    comments = int(row[1])\n",
    "    \n",
    "    if hour in counts_by_hour:\n",
    "        counts_by_hour[hour] += 1\n",
    "    else:\n",
    "        counts_by_hour[hour] = 1\n",
    "        \n",
    "    if hour in comments_by_hour:\n",
    "        comments_by_hour[hour] += comments\n",
    "    else:\n",
    "        comments_by_hour[hour] = comments"
   ]
  },
  {
   "cell_type": "code",
   "execution_count": 9,
   "metadata": {},
   "outputs": [],
   "source": [
    "avg_hour = {}\n",
    "\n",
    "for hour in counts_by_hour:\n",
    "    avg_hour[hour] = (comments_by_hour[hour] / counts_by_hour[hour])\n",
    "\n",
    "sorted_avg_hour = list(sorted(avg_hour.items(), key=operator.itemgetter(1), reverse=True)) "
   ]
  },
  {
   "cell_type": "code",
   "execution_count": 10,
   "metadata": {},
   "outputs": [
    {
     "name": "stdout",
     "output_type": "stream",
     "text": [
      "Top 5 Hours to Post to Hacker News (EST)\n",
      "Hour 15.00: 38.59 Avg Comments Per Post\n",
      "Hour 02.00: 23.81 Avg Comments Per Post\n",
      "Hour 20.00: 21.52 Avg Comments Per Post\n",
      "Hour 16.00: 16.80 Avg Comments Per Post\n",
      "Hour 21.00: 16.01 Avg Comments Per Post\n"
     ]
    }
   ],
   "source": [
    "print(\"Top 5 Hours to Post to Hacker News (EST)\")\n",
    "for row in sorted_avg_hour[:5]:\n",
    "    print(\"Hour {:05.2f}: {:.2f} Avg Comments Per Post\".format(int(row[0]),float(row[1])))"
   ]
  }
 ],
 "metadata": {
  "kernelspec": {
   "display_name": "Python 3",
   "language": "python",
   "name": "python3"
  },
  "language_info": {
   "codemirror_mode": {
    "name": "ipython",
    "version": 3
   },
   "file_extension": ".py",
   "mimetype": "text/x-python",
   "name": "python",
   "nbconvert_exporter": "python",
   "pygments_lexer": "ipython3",
   "version": "3.7.6"
  }
 },
 "nbformat": 4,
 "nbformat_minor": 4
}
