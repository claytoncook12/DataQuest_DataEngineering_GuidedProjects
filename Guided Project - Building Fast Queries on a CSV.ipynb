{
 "cells": [
  {
   "cell_type": "markdown",
   "metadata": {},
   "source": [
    "# Guided Project: Building Fast Queries on a CSV\n",
    "\n",
    "The goal of this guided project is to create a class that represents our inventory. The methods in that class will implement the queries that we want to answer about our inventory. We will also preprocess that data to make those queries run faster.\n",
    "\n",
    "Here are some queries that we will want to answer:\n",
    "\n",
    "+ Given a laptop id, find the corresponding data.\n",
    "+ Given an amount of money, find whether there are two laptops whose total price is that given amount.\n",
    "+ Identify all laptops whose price falls within a given budget.\n",
    "\n",
    "We will use the laptops.csv file as our inventory. This CSV file was adapted from the Laptop Prices dataset on Kaggle. We changed the IDs and made the prices integers."
   ]
  },
  {
   "cell_type": "code",
   "execution_count": 1,
   "metadata": {},
   "outputs": [],
   "source": [
    "import csv\n",
    "import time\n",
    "import random"
   ]
  },
  {
   "cell_type": "markdown",
   "metadata": {},
   "source": [
    "## Class Type"
   ]
  },
  {
   "cell_type": "code",
   "execution_count": 2,
   "metadata": {},
   "outputs": [],
   "source": [
    "class Inventory():\n",
    "    \n",
    "    def __init__(self, csv_filename):\n",
    "        with open(csv_filename) as file:\n",
    "            reader = csv.reader(file)\n",
    "            data = list(reader)\n",
    "         \n",
    "        self.header = data[0]\n",
    "        self.rows = data[1:]\n",
    "        self.length = len(self.rows)\n",
    "        self.id_to_row = {}\n",
    "        self.prices = set()\n",
    "        self.sort_price = sorted(self.rows, key= lambda x: int(x[-1]))\n",
    "        \n",
    "        for row in self.rows:\n",
    "            row[-1] = int(row[-1])\n",
    "            \n",
    "        for row in self.rows:\n",
    "            self.id_to_row[int(row[0])] = row[1:]\n",
    "        \n",
    "        for row in self.rows:\n",
    "            self.prices.add(row[-1])\n",
    "    \n",
    "    def get_laptop_id(self, laptop_id, print_out = True):\n",
    "        \n",
    "        self.found_row = None\n",
    "        \n",
    "        for row in self.rows:\n",
    "            if int(row[0]) == int(laptop_id):\n",
    "                self.found_row = row\n",
    "                \n",
    "        if print_out:\n",
    "            if self.found_row != None:\n",
    "                print(\"Laptop found with {} ID:\\n{}\\n\".format(laptop_id,self.found_row))\n",
    "            else:\n",
    "                print(\"No laptop with the ID found in database.\\n\")\n",
    "                \n",
    "    def get_laptop_id_fast(self, laptop_id, print_out = True):\n",
    "        \n",
    "        self.found_row = None\n",
    "        \n",
    "        if laptop_id in self.id_to_row:\n",
    "            self.found_row = self.id_to_row[laptop_id]\n",
    "        \n",
    "        if print_out:\n",
    "            if self.found_row != None:\n",
    "                print(\"Laptop found with {} ID:\\n{}\\n\".format(laptop_id,self.found_row))\n",
    "            else:\n",
    "                print(\"No laptop with the ID found in database.\\n\")\n",
    "                \n",
    "    def check_promotion_dollars(self, dollars):\n",
    "        \n",
    "        # Check single value\n",
    "        for row in self.rows:\n",
    "            if dollars == int(row[-1]):\n",
    "                return True\n",
    "        \n",
    "        # Check double values\n",
    "        for i in self.rows:\n",
    "            for j in self.rows:\n",
    "                if dollars == int(i[-1] + j[-1]):\n",
    "                    return True\n",
    "                else:\n",
    "                    return False\n",
    "    \n",
    "    def check_promotion_dollars_fast(self, dollars):\n",
    "        \n",
    "        # Check single value\n",
    "        if dollars in self.prices:\n",
    "            return True\n",
    "        \n",
    "        # Check double values\n",
    "        for row in self.rows:\n",
    "            remainder = dollars - row[-1]\n",
    "            if remainder in self.prices:\n",
    "                return True\n",
    "        \n",
    "        return False\n",
    "    \n",
    "    def find_first_laptop_more_expensive(self, target_price, print_out=False):\n",
    "        '''\n",
    "        Return index of first row in self.sort_price whose price\n",
    "        is higher than price, else return -1\n",
    "        '''\n",
    "        \n",
    "        range_start = 0                                   \n",
    "        range_end = len(self.sort_price) - 1  \n",
    "        \n",
    "        while range_start < range_end:\n",
    "            range_middle = (range_end + range_start) // 2  \n",
    "            price = int(self.sort_price[range_middle][-1])\n",
    "            if price == target_price:                            \n",
    "                return range_middle + 1                       \n",
    "            elif price < target_price:                           \n",
    "                range_start = range_middle + 1             \n",
    "            else:                                          \n",
    "                range_end = range_middle - 1\n",
    "        \n",
    "        if print_out:\n",
    "            print(\"Found Price: {}\".format(price))\n",
    "            print(\"Index Start: {}\".format(range_start))\n",
    "            print(\"Index End: {}\".format(range_end))                                   \n",
    "        \n",
    "        if target_price > price:\n",
    "            return -1\n",
    "        \n",
    "        index_return = max([range_start,range_end])\n",
    "        \n",
    "        return index_return + 1\n",
    "        \n",
    "        \n",
    "inventory = Inventory(\"laptops.csv\")"
   ]
  },
  {
   "cell_type": "code",
   "execution_count": 3,
   "metadata": {},
   "outputs": [
    {
     "name": "stdout",
     "output_type": "stream",
     "text": [
      "['Id', 'Company', 'Product', 'TypeName', 'Inches', 'ScreenResolution', 'Cpu', 'Ram', 'Memory', 'Gpu', 'OpSys', 'Weight', 'Price']\n",
      "[['6571244', 'Apple', 'MacBook Pro', 'Ultrabook', '13.3', 'IPS Panel Retina Display 2560x1600', 'Intel Core i5 2.3GHz', '8GB', '128GB SSD', 'Intel Iris Plus Graphics 640', 'macOS', '1.37kg', 1339], ['7287764', 'Apple', 'Macbook Air', 'Ultrabook', '13.3', '1440x900', 'Intel Core i5 1.8GHz', '8GB', '128GB Flash Storage', 'Intel HD Graphics 6000', 'macOS', '1.34kg', 898]]\n",
      "1303\n"
     ]
    }
   ],
   "source": [
    "print(inventory.header)\n",
    "print(inventory.rows[:2])\n",
    "print(inventory.length)"
   ]
  },
  {
   "cell_type": "markdown",
   "metadata": {},
   "source": [
    "Here is a brief description of the rows:\n",
    "\n",
    "+ **ID**: A unique identifier for the laptop.\n",
    "+ **Company**: The name of the company that produces the laptop.\n",
    "+ **Product**: The name of the laptop.\n",
    "+ **TypeName**: The type of laptop.\n",
    "+ **Inches**: The size of the screen in inches.\n",
    "+ **ScreenResolution**: The resolution of the screen.\n",
    "+ **CPU**: The laptop CPU.\n",
    "+ **RAM**: The amount of RAM in the laptop.\n",
    "+ **Memory**: The size of the hard drive.\n",
    "+ **GPU**: The graphics card name.\n",
    "+ **OpSys**: The name of the operating system.\n",
    "+ **Weight**: The laptop weight.\n",
    "+ **Price**: The price of the laptop."
   ]
  },
  {
   "cell_type": "markdown",
   "metadata": {},
   "source": [
    "### Getting Laptop From ID with two methods"
   ]
  },
  {
   "cell_type": "code",
   "execution_count": 4,
   "metadata": {},
   "outputs": [
    {
     "name": "stdout",
     "output_type": "stream",
     "text": [
      "Laptop found with 3362737 ID:\n",
      "['3362737', 'HP', '250 G6', 'Notebook', '15.6', 'Full HD 1920x1080', 'Intel Core i5 7200U 2.5GHz', '8GB', '256GB SSD', 'Intel HD Graphics 620', 'No OS', '1.86kg', 575]\n",
      "\n",
      "No laptop with the ID found in database.\n",
      "\n"
     ]
    }
   ],
   "source": [
    "# Finding with for loop\n",
    "inventory.get_laptop_id(3362737)\n",
    "inventory.get_laptop_id(3362736)"
   ]
  },
  {
   "cell_type": "code",
   "execution_count": 5,
   "metadata": {
    "scrolled": true
   },
   "outputs": [
    {
     "name": "stdout",
     "output_type": "stream",
     "text": [
      "Laptop found with 3362737 ID:\n",
      "['HP', '250 G6', 'Notebook', '15.6', 'Full HD 1920x1080', 'Intel Core i5 7200U 2.5GHz', '8GB', '256GB SSD', 'Intel HD Graphics 620', 'No OS', '1.86kg', 575]\n",
      "\n",
      "No laptop with the ID found in database.\n",
      "\n"
     ]
    }
   ],
   "source": [
    "# Finding with dict\n",
    "inventory.get_laptop_id_fast(3362737)\n",
    "inventory.get_laptop_id_fast(3362736)"
   ]
  },
  {
   "cell_type": "markdown",
   "metadata": {},
   "source": [
    "### Comparing Run Times Between Two Methods"
   ]
  },
  {
   "cell_type": "code",
   "execution_count": 6,
   "metadata": {},
   "outputs": [],
   "source": [
    "# Generate Random Variables To Compare\n",
    "ids = [random.randint(1000000,9999999) for _ in range(10000)]"
   ]
  },
  {
   "cell_type": "code",
   "execution_count": 7,
   "metadata": {
    "scrolled": false
   },
   "outputs": [
    {
     "name": "stdout",
     "output_type": "stream",
     "text": [
      "  Total time for lookup no dictonary: 4.064 secs\n",
      "Total time for lookup with dictonary: 0.002 secs\n"
     ]
    }
   ],
   "source": [
    "# Total Time for No Dict Algorithum\n",
    "total_time_no_dict = 0\n",
    "\n",
    "for id in ids:\n",
    "    start = time.time()\n",
    "    inventory.get_laptop_id(id, print_out = False)\n",
    "    end = time.time()\n",
    "    total_time_no_dict += (end - start)\n",
    "\n",
    "# Total Time for Dict Algorithum\n",
    "total_time_dict = 0\n",
    "\n",
    "for id in ids:\n",
    "    start = time.time()\n",
    "    inventory.get_laptop_id_fast(id, print_out = False)\n",
    "    end = time.time()\n",
    "    total_time_dict += (end - start)\n",
    "    \n",
    "print(\"  Total time for lookup no dictonary: {:.3f} secs\".format(total_time_no_dict))\n",
    "print(\"Total time for lookup with dictonary: {:.3f} secs\".format(total_time_dict))"
   ]
  },
  {
   "cell_type": "markdown",
   "metadata": {},
   "source": [
    "### Checking Sum of Two Values\n",
    "\n",
    "Write a function that, given a dollar amount, checks whether it is possible to spend precisely that amount by purchasing up to two laptops."
   ]
  },
  {
   "cell_type": "code",
   "execution_count": 8,
   "metadata": {},
   "outputs": [
    {
     "data": {
      "text/plain": [
       "True"
      ]
     },
     "execution_count": 8,
     "metadata": {},
     "output_type": "execute_result"
    }
   ],
   "source": [
    "inventory.check_promotion_dollars(443)"
   ]
  },
  {
   "cell_type": "markdown",
   "metadata": {},
   "source": [
    "Going to imporve the previous function so that it runs in constant time. This can be achevied by storing the price values in a set and then find values."
   ]
  },
  {
   "cell_type": "code",
   "execution_count": 9,
   "metadata": {},
   "outputs": [
    {
     "data": {
      "text/plain": [
       "True"
      ]
     },
     "execution_count": 9,
     "metadata": {},
     "output_type": "execute_result"
    }
   ],
   "source": [
    "inventory.check_promotion_dollars_fast(1000)"
   ]
  },
  {
   "cell_type": "markdown",
   "metadata": {},
   "source": [
    "### Comparing Run Time Between Two methods"
   ]
  },
  {
   "cell_type": "code",
   "execution_count": 10,
   "metadata": {},
   "outputs": [],
   "source": [
    "# Generate Random Price Variables\n",
    "ran_prices = [random.randint(100,5000) for _ in range(100)]"
   ]
  },
  {
   "cell_type": "code",
   "execution_count": 11,
   "metadata": {},
   "outputs": [
    {
     "name": "stdout",
     "output_type": "stream",
     "text": [
      "  Total time for lookup no set: 0.036925 secs\n",
      "Total time for lookup with set: 0.000999 secs\n"
     ]
    }
   ],
   "source": [
    "# Total Run Time for No Set\n",
    "total_time_no_set = 0\n",
    "\n",
    "for price in ran_prices:\n",
    "    start = time.time()\n",
    "    inventory.check_promotion_dollars(price)\n",
    "    end = time.time()\n",
    "    total_time_no_set += (end - start)\n",
    "\n",
    "# Total Run Time for Sets\n",
    "total_time_set = 0\n",
    "\n",
    "for price in ran_prices:\n",
    "    start = time.time()\n",
    "    inventory.check_promotion_dollars_fast(price)\n",
    "    end = time.time()\n",
    "    total_time_set += (end - start)\n",
    "    \n",
    "print(\"  Total time for lookup no set: {:.6f} secs\".format(total_time_no_set))\n",
    "print(\"Total time for lookup with set: {:.6f} secs\".format(total_time_set))"
   ]
  },
  {
   "cell_type": "markdown",
   "metadata": {},
   "source": [
    "### Using Binary Search to Find Laptops in Budget"
   ]
  },
  {
   "cell_type": "code",
   "execution_count": 12,
   "metadata": {},
   "outputs": [
    {
     "data": {
      "text/plain": [
       "1301"
      ]
     },
     "execution_count": 12,
     "metadata": {},
     "output_type": "execute_result"
    }
   ],
   "source": [
    "inventory.find_first_laptop_more_expensive(4899, print_out=True)"
   ]
  }
 ],
 "metadata": {
  "kernelspec": {
   "display_name": "Python 3",
   "language": "python",
   "name": "python3"
  },
  "language_info": {
   "codemirror_mode": {
    "name": "ipython",
    "version": 3
   },
   "file_extension": ".py",
   "mimetype": "text/x-python",
   "name": "python",
   "nbconvert_exporter": "python",
   "pygments_lexer": "ipython3",
   "version": "3.7.7"
  }
 },
 "nbformat": 4,
 "nbformat_minor": 4
}
