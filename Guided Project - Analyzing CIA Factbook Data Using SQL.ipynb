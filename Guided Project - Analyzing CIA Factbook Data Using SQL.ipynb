{
 "cells": [
  {
   "cell_type": "markdown",
   "metadata": {},
   "source": [
    "# Guided Project: Analyzing CIA Factbook Data Using SQL"
   ]
  },
  {
   "cell_type": "code",
   "execution_count": 1,
   "metadata": {},
   "outputs": [],
   "source": [
    "import pandas as pd\n",
    "import sqlite3"
   ]
  },
  {
   "cell_type": "code",
   "execution_count": 2,
   "metadata": {},
   "outputs": [],
   "source": [
    "# Connect to the Database\n",
    "conn = sqlite3.connect(\"factbook.db\")\n",
    "c = conn.cursor()"
   ]
  },
  {
   "cell_type": "markdown",
   "metadata": {},
   "source": [
    "## Get Information About the Database"
   ]
  },
  {
   "cell_type": "code",
   "execution_count": 3,
   "metadata": {
    "scrolled": false
   },
   "outputs": [
    {
     "data": {
      "text/plain": [
       "[('table',\n",
       "  'sqlite_sequence',\n",
       "  'sqlite_sequence',\n",
       "  3,\n",
       "  'CREATE TABLE sqlite_sequence(name,seq)'),\n",
       " ('table',\n",
       "  'facts',\n",
       "  'facts',\n",
       "  47,\n",
       "  'CREATE TABLE \"facts\" (\"id\" INTEGER PRIMARY KEY AUTOINCREMENT NOT NULL, \"code\" varchar(255) NOT NULL, \"name\" varchar(255) NOT NULL, \"area\" integer, \"area_land\" integer, \"area_water\" integer, \"population\" integer, \"population_growth\" float, \"birth_rate\" float, \"death_rate\" float, \"migration_rate\" float)')]"
      ]
     },
     "execution_count": 3,
     "metadata": {},
     "output_type": "execute_result"
    }
   ],
   "source": [
    "disc = c.execute(' SELECT * FROM sqlite_master WHERE type=\"table\" ').fetchall()\n",
    "\n",
    "disc"
   ]
  },
  {
   "cell_type": "code",
   "execution_count": 4,
   "metadata": {},
   "outputs": [
    {
     "name": "stdout",
     "output_type": "stream",
     "text": [
      "[(0, 'id', 'INTEGER', 1, None, 1), (1, 'code', 'varchar(255)', 1, None, 0), (2, 'name', 'varchar(255)', 1, None, 0), (3, 'area', 'integer', 0, None, 0), (4, 'area_land', 'integer', 0, None, 0), (5, 'area_water', 'integer', 0, None, 0), (6, 'population', 'integer', 0, None, 0), (7, 'population_growth', 'float', 0, None, 0), (8, 'birth_rate', 'float', 0, None, 0), (9, 'death_rate', 'float', 0, None, 0), (10, 'migration_rate', 'float', 0, None, 0)]\n",
      "\n",
      "\n",
      "[(1, 'af', 'Afghanistan', 652230, 652230, 0, 32564342, 2.32, 38.57, 13.89, 1.51), (2, 'al', 'Albania', 28748, 27398, 1350, 3029278, 0.3, 12.92, 6.58, 3.3), (3, 'ag', 'Algeria', 2381741, 2381741, 0, 39542166, 1.84, 23.67, 4.31, 0.92), (4, 'an', 'Andorra', 468, 468, 0, 85580, 0.12, 8.13, 6.96, 0.0), (5, 'ao', 'Angola', 1246700, 1246700, 0, 19625353, 2.78, 38.78, 11.49, 0.46)]\n"
     ]
    }
   ],
   "source": [
    "# Facts table\n",
    "header = c.execute('PRAGMA table_info(facts)').fetchall()\n",
    "rows = c.execute('SELECT * FROM facts').fetchall()\n",
    "\n",
    "print(header)\n",
    "print(\"\\n\")\n",
    "print(rows[:5])"
   ]
  },
  {
   "cell_type": "markdown",
   "metadata": {},
   "source": [
    "## General Summary Statistics"
   ]
  },
  {
   "cell_type": "code",
   "execution_count": 5,
   "metadata": {},
   "outputs": [],
   "source": [
    "# to view in a pandas dataframe\n",
    "df = pd.read_sql_query(\"SELECT * FROM facts\", conn)"
   ]
  },
  {
   "cell_type": "code",
   "execution_count": 6,
   "metadata": {},
   "outputs": [
    {
     "name": "stdout",
     "output_type": "stream",
     "text": [
      "Min population is 0 and max population is 7256490011\n",
      "Min growth is 0.0 and max growth is 4.02\n"
     ]
    }
   ],
   "source": [
    "min_pop = c.execute(\"SELECT MIN(population) FROM facts\").fetchone()\n",
    "max_pop = c.execute(\"SELECT MAX(population) FROM facts\").fetchone()\n",
    "min_grow = c.execute(\"SELECT MIN(population_growth) FROM facts\").fetchone()\n",
    "max_grow = c.execute(\"SELECT MAX(population_growth) FROM facts\").fetchone()\n",
    "\n",
    "print(\"Min population is {} and max population is {}\".format(min_pop[0],max_pop[0]))\n",
    "print(\"Min growth is {} and max growth is {}\".format(min_grow[0],max_grow[0]))"
   ]
  },
  {
   "cell_type": "code",
   "execution_count": 7,
   "metadata": {},
   "outputs": [
    {
     "name": "stdout",
     "output_type": "stream",
     "text": [
      "Avg population for population is 62094928.\n",
      "Avg area is 555094 square kilometers.\n"
     ]
    }
   ],
   "source": [
    "avg_pop = c.execute(\"SELECT AVG(population) FROM facts\").fetchone()\n",
    "avg_area = c.execute(\"SELECT AVG(area) FROM facts\").fetchone()\n",
    "\n",
    "print(\"Avg population for population is {:.0f}.\".format(avg_pop[0]))\n",
    "print(\"Avg area is {:.0f} square kilometers.\".format(avg_area[0]))"
   ]
  },
  {
   "cell_type": "markdown",
   "metadata": {},
   "source": [
    "Finding countries that are above average in population and below average in area."
   ]
  },
  {
   "cell_type": "code",
   "execution_count": 8,
   "metadata": {},
   "outputs": [],
   "source": [
    "rows = c.execute(\"SELECT * FROM facts \\\n",
    "                  WHERE population > (SELECT AVG(population) FROM facts) \\\n",
    "                  AND area < (SELECT AVG(area) from facts)\").fetchall()"
   ]
  },
  {
   "cell_type": "code",
   "execution_count": 9,
   "metadata": {},
   "outputs": [
    {
     "name": "stdout",
     "output_type": "stream",
     "text": [
      "          Bangladesh    Area (km^2):130170   Population: 168957745\n",
      "             Germany    Area (km^2):348672   Population:  80854408\n",
      "               Japan    Area (km^2):364485   Population: 126919659\n",
      "         Philippines    Area (km^2):298170   Population: 100998376\n",
      "            Thailand    Area (km^2):510890   Population:  67976405\n",
      "      United Kingdom    Area (km^2):241930   Population:  64088222\n",
      "             Vietnam    Area (km^2):310070   Population:  94348835\n"
     ]
    }
   ],
   "source": [
    "for row in rows:\n",
    "    print(\"{:>20}    Area (km^2):{:06}   Population: {:9d}\".format(row[2],row[4],row[6],))"
   ]
  }
 ],
 "metadata": {
  "kernelspec": {
   "display_name": "Python 3",
   "language": "python",
   "name": "python3"
  },
  "language_info": {
   "codemirror_mode": {
    "name": "ipython",
    "version": 3
   },
   "file_extension": ".py",
   "mimetype": "text/x-python",
   "name": "python",
   "nbconvert_exporter": "python",
   "pygments_lexer": "ipython3",
   "version": "3.7.7"
  }
 },
 "nbformat": 4,
 "nbformat_minor": 4
}
